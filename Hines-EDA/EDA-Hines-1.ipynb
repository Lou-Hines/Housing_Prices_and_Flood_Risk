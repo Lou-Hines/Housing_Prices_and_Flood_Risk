{
 "cells": [
  {
   "cell_type": "markdown",
   "metadata": {},
   "source": [
    "# SECTION 1: FLOOD DATA CLEANING AND ANALYSIS"
   ]
  },
  {
   "cell_type": "code",
   "execution_count": 4,
   "metadata": {},
   "outputs": [],
   "source": [
    "\n",
    "import itertools as IT\n",
    "import pandas as pd\n",
    "import matplotlib.pyplot as plt\n",
    "%matplotlib inline\n",
    "from scipy import stats\n",
    "import seaborn as sns\n",
    "import numpy as np\n",
    "import math\n",
    "from sqlalchemy import create_engine"
   ]
  },
  {
   "cell_type": "markdown",
   "metadata": {},
   "source": [
    "(The flood data has fewer zipcodes than the housing data, so we have to match the latter on the former)"
   ]
  },
  {
   "cell_type": "code",
   "execution_count": 5,
   "metadata": {},
   "outputs": [],
   "source": [
    "data = pd.read_csv('/Users/admin/Downloads/NFIP/nfip-flood-policies.csv', nrows=100)"
   ]
  },
  {
   "cell_type": "markdown",
   "metadata": {},
   "source": [
    "Need to get county code for king county and filter this giant, 3 gig csv file by it"
   ]
  },
  {
   "cell_type": "code",
   "execution_count": 6,
   "metadata": {},
   "outputs": [
    {
     "name": "stdout",
     "output_type": "stream",
     "text": [
      "<class 'pandas.core.frame.DataFrame'>\n",
      "RangeIndex: 100 entries, 0 to 99\n",
      "Data columns (total 45 columns):\n",
      " #   Column                              Non-Null Count  Dtype  \n",
      "---  ------                              --------------  -----  \n",
      " 0   agriculturestructureindicator       0 non-null      float64\n",
      " 1   basefloodelevation                  39 non-null     float64\n",
      " 2   basementenclosurecrawlspacetype     100 non-null    int64  \n",
      " 3   cancellationdateoffloodpolicy       13 non-null     object \n",
      " 4   censustract                         100 non-null    int64  \n",
      " 5   condominiumindicator                100 non-null    object \n",
      " 6   construction                        100 non-null    object \n",
      " 7   countycode                          100 non-null    int64  \n",
      " 8   crsdiscount                         100 non-null    float64\n",
      " 9   deductibleamountinbuildingcoverage  98 non-null     float64\n",
      " 10  deductibleamountincontentscoverage  92 non-null     float64\n",
      " 11  elevatedbuildingindicator           100 non-null    object \n",
      " 12  elevationcertificateindicator       31 non-null     float64\n",
      " 13  elevationdifference                 100 non-null    int64  \n",
      " 14  federalpolicyfee                    100 non-null    int64  \n",
      " 15  floodzone                           100 non-null    object \n",
      " 16  hfiaasurcharge                      100 non-null    int64  \n",
      " 17  houseofworshipindicator             0 non-null      float64\n",
      " 18  latitude                            100 non-null    float64\n",
      " 19  locationofcontents                  75 non-null     object \n",
      " 20  longitude                           100 non-null    float64\n",
      " 21  lowestadjacentgrade                 35 non-null     float64\n",
      " 22  lowestfloorelevation                39 non-null     float64\n",
      " 23  nonprofitindicator                  0 non-null      float64\n",
      " 24  numberoffloorsininsuredbuilding     100 non-null    int64  \n",
      " 25  obstructiontype                     23 non-null     float64\n",
      " 26  occupancytype                       100 non-null    int64  \n",
      " 27  originalconstructiondate            100 non-null    object \n",
      " 28  originalnbdate                      100 non-null    object \n",
      " 29  policycost                          100 non-null    int64  \n",
      " 30  policycount                         100 non-null    int64  \n",
      " 31  policyeffectivedate                 100 non-null    object \n",
      " 32  policyterminationdate               100 non-null    object \n",
      " 33  policytermindicator                 100 non-null    int64  \n",
      " 34  postfirmconstructionindicator       100 non-null    object \n",
      " 35  primaryresidenceindicator           100 non-null    object \n",
      " 36  propertystate                       100 non-null    object \n",
      " 37  reportedzipcode                     100 non-null    int64  \n",
      " 38  ratemethod                          100 non-null    int64  \n",
      " 39  regularemergencyprogramindicator    100 non-null    object \n",
      " 40  reportedcity                        100 non-null    object \n",
      " 41  smallbusinessindicatorbuilding      0 non-null      float64\n",
      " 42  totalbuildinginsurancecoverage      100 non-null    int64  \n",
      " 43  totalcontentsinsurancecoverage      100 non-null    int64  \n",
      " 44  totalinsurancepremiumofthepolicy    100 non-null    int64  \n",
      "dtypes: float64(14), int64(16), object(15)\n",
      "memory usage: 35.3+ KB\n"
     ]
    }
   ],
   "source": [
    "data.info()"
   ]
  },
  {
   "cell_type": "code",
   "execution_count": 7,
   "metadata": {},
   "outputs": [
    {
     "data": {
      "text/plain": [
       "Index(['agriculturestructureindicator', 'basefloodelevation',\n",
       "       'basementenclosurecrawlspacetype', 'cancellationdateoffloodpolicy',\n",
       "       'censustract', 'condominiumindicator', 'construction', 'countycode',\n",
       "       'crsdiscount', 'deductibleamountinbuildingcoverage',\n",
       "       'deductibleamountincontentscoverage', 'elevatedbuildingindicator',\n",
       "       'elevationcertificateindicator', 'elevationdifference',\n",
       "       'federalpolicyfee', 'floodzone', 'hfiaasurcharge',\n",
       "       'houseofworshipindicator', 'latitude', 'locationofcontents',\n",
       "       'longitude', 'lowestadjacentgrade', 'lowestfloorelevation',\n",
       "       'nonprofitindicator', 'numberoffloorsininsuredbuilding',\n",
       "       'obstructiontype', 'occupancytype', 'originalconstructiondate',\n",
       "       'originalnbdate', 'policycost', 'policycount', 'policyeffectivedate',\n",
       "       'policyterminationdate', 'policytermindicator',\n",
       "       'postfirmconstructionindicator', 'primaryresidenceindicator',\n",
       "       'propertystate', 'reportedzipcode', 'ratemethod',\n",
       "       'regularemergencyprogramindicator', 'reportedcity',\n",
       "       'smallbusinessindicatorbuilding', 'totalbuildinginsurancecoverage',\n",
       "       'totalcontentsinsurancecoverage', 'totalinsurancepremiumofthepolicy'],\n",
       "      dtype='object')"
      ]
     },
     "execution_count": 7,
     "metadata": {},
     "output_type": "execute_result"
    }
   ],
   "source": [
    "data.columns"
   ]
  },
  {
   "cell_type": "code",
   "execution_count": 8,
   "metadata": {},
   "outputs": [],
   "source": [
    "file = '/Users/admin/Downloads/NFIP/nfip-flood-policies.csv'\n",
    "df_empty = pd.DataFrame()\n",
    "with open(file) as fl:\n",
    "    chunk_iter = pd.read_csv(fl, chunksize = 100000, low_memory=False)\n",
    "    for chunk in chunk_iter:\n",
    "        chunk = chunk[chunk['countycode'] == 53033.0]\n",
    "        df_empty = pd.concat([df_empty,chunk])"
   ]
  },
  {
   "cell_type": "markdown",
   "metadata": {},
   "source": [
    "Inputting relevant-seeming columns and getting rid of nulls."
   ]
  },
  {
   "cell_type": "code",
   "execution_count": 9,
   "metadata": {},
   "outputs": [],
   "source": [
    "flood_data = df_empty[['countycode', 'deductibleamountinbuildingcoverage', 'elevatedbuildingindicator', 'elevationdifference', 'floodzone', 'reportedzipcode', 'totalinsurancepremiumofthepolicy']].copy()"
   ]
  },
  {
   "cell_type": "code",
   "execution_count": 10,
   "metadata": {},
   "outputs": [
    {
     "name": "stdout",
     "output_type": "stream",
     "text": [
      "<class 'pandas.core.frame.DataFrame'>\n",
      "Int64Index: 109936 entries, 147 to 50406466\n",
      "Data columns (total 45 columns):\n",
      " #   Column                              Non-Null Count   Dtype  \n",
      "---  ------                              --------------   -----  \n",
      " 0   agriculturestructureindicator       17453 non-null   object \n",
      " 1   basefloodelevation                  19583 non-null   float64\n",
      " 2   basementenclosurecrawlspacetype     109936 non-null  float64\n",
      " 3   cancellationdateoffloodpolicy       11480 non-null   object \n",
      " 4   censustract                         109641 non-null  float64\n",
      " 5   condominiumindicator                109936 non-null  object \n",
      " 6   construction                        109936 non-null  object \n",
      " 7   countycode                          109936 non-null  float64\n",
      " 8   crsdiscount                         109936 non-null  float64\n",
      " 9   deductibleamountinbuildingcoverage  103272 non-null  object \n",
      " 10  deductibleamountincontentscoverage  99339 non-null   object \n",
      " 11  elevatedbuildingindicator           109934 non-null  object \n",
      " 12  elevationcertificateindicator       32588 non-null   object \n",
      " 13  elevationdifference                 109936 non-null  float64\n",
      " 14  federalpolicyfee                    109936 non-null  float64\n",
      " 15  floodzone                           109878 non-null  object \n",
      " 16  hfiaasurcharge                      109936 non-null  float64\n",
      " 17  houseofworshipindicator             25466 non-null   object \n",
      " 18  latitude                            109641 non-null  float64\n",
      " 19  locationofcontents                  75383 non-null   object \n",
      " 20  longitude                           109641 non-null  float64\n",
      " 21  lowestadjacentgrade                 18651 non-null   float64\n",
      " 22  lowestfloorelevation                20096 non-null   float64\n",
      " 23  nonprofitindicator                  25397 non-null   object \n",
      " 24  numberoffloorsininsuredbuilding     109878 non-null  float64\n",
      " 25  obstructiontype                     23873 non-null   object \n",
      " 26  occupancytype                       109936 non-null  float64\n",
      " 27  originalconstructiondate            109868 non-null  object \n",
      " 28  originalnbdate                      109936 non-null  object \n",
      " 29  policycost                          109936 non-null  float64\n",
      " 30  policycount                         109936 non-null  float64\n",
      " 31  policyeffectivedate                 109936 non-null  object \n",
      " 32  policyterminationdate               109936 non-null  object \n",
      " 33  policytermindicator                 109936 non-null  float64\n",
      " 34  postfirmconstructionindicator       109868 non-null  object \n",
      " 35  primaryresidenceindicator           109936 non-null  object \n",
      " 36  propertystate                       109936 non-null  object \n",
      " 37  reportedzipcode                     109936 non-null  object \n",
      " 38  ratemethod                          109919 non-null  object \n",
      " 39  regularemergencyprogramindicator    109936 non-null  object \n",
      " 40  reportedcity                        109936 non-null  object \n",
      " 41  smallbusinessindicatorbuilding      27350 non-null   object \n",
      " 42  totalbuildinginsurancecoverage      109936 non-null  float64\n",
      " 43  totalcontentsinsurancecoverage      109936 non-null  float64\n",
      " 44  totalinsurancepremiumofthepolicy    109936 non-null  float64\n",
      "dtypes: float64(20), object(25)\n",
      "memory usage: 38.6+ MB\n"
     ]
    }
   ],
   "source": [
    "df_empty.info()"
   ]
  },
  {
   "cell_type": "markdown",
   "metadata": {},
   "source": [
    "#### Clean zip codes. Should all be 5 digits and start with 9\n"
   ]
  },
  {
   "cell_type": "code",
   "execution_count": 12,
   "metadata": {},
   "outputs": [],
   "source": [
    "flood_data.reportedzipcode = flood_data.reportedzipcode.astype(int)"
   ]
  },
  {
   "cell_type": "code",
   "execution_count": 13,
   "metadata": {},
   "outputs": [],
   "source": [
    "flood_data.countycode = flood_data.countycode.astype(int)"
   ]
  },
  {
   "cell_type": "code",
   "execution_count": 14,
   "metadata": {},
   "outputs": [],
   "source": [
    "flood_data = flood_data[(flood_data['reportedzipcode'] >= 90000) & (flood_data['reportedzipcode'] <= 99999)]"
   ]
  },
  {
   "cell_type": "markdown",
   "metadata": {},
   "source": [
    "# Let's get the flood zone types per zipcode and create a dictionary, new column, and scores!!"
   ]
  },
  {
   "cell_type": "code",
   "execution_count": 15,
   "metadata": {},
   "outputs": [
    {
     "data": {
      "text/plain": [
       "{93002: ['X'],\n",
       " 96168: ['X'],\n",
       " 98000: ['X'],\n",
       " 98001: ['X', 'AE', 'A', 'AH', 'C'],\n",
       " 98002: ['X', 'AH', 'AE', 'AHB', 'C', 'AO'],\n",
       " 98003: ['X'],\n",
       " 98004: ['X', 'AE'],\n",
       " 98005: ['X', 'AE', 'B'],\n",
       " 98006: ['X', 'AE', 'A'],\n",
       " 98007: ['X', 'AE'],\n",
       " 98008: ['X', 'AE', 'A', 'C', 'A06'],\n",
       " 98010: ['X', 'C'],\n",
       " 98011: ['X', 'C', 'A06', 'AE'],\n",
       " 98014: ['AE', 'X', 'AO', 'C', 'AOB', 'A', 'A05', 'A06'],\n",
       " 98019: ['AE', 'X', 'A', 'C', 'A10'],\n",
       " 98022: ['A', 'X', 'D', 'AE', 'C'],\n",
       " 98023: ['X', 'A', 'C'],\n",
       " 98024: ['AE', 'X', 'AO', 'C', 'A', 'AOB', 'A05'],\n",
       " 98025: ['AE'],\n",
       " 98027: ['AE', 'X', 'AO', 'A', 'A04', 'C', 'B', 'AOB', 'A02'],\n",
       " 98028: ['AE', 'X', 'A'],\n",
       " 98029: ['X', 'AE'],\n",
       " 98030: ['X', 'AE', 'AH'],\n",
       " 98031: ['X', 'AE', 'A', 'C'],\n",
       " 98032: ['X', 'AE', 'AHB', 'AH', 'C', 'A', 'VE'],\n",
       " 98033: ['X', 'AO'],\n",
       " 98034: ['X'],\n",
       " 98035: ['AE', 'X'],\n",
       " 98038: ['AE', 'X', 'A05', 'B', 'A', 'C', 'A01'],\n",
       " 98039: ['X'],\n",
       " 98040: ['X'],\n",
       " 98042: ['X', 'A', 'AE'],\n",
       " 98045: ['AE',\n",
       "  'AO',\n",
       "  'X',\n",
       "  'AOB',\n",
       "  'D',\n",
       "  'C',\n",
       "  'A',\n",
       "  'AH',\n",
       "  'A05',\n",
       "  'B',\n",
       "  'A09',\n",
       "  'AHB',\n",
       "  'A06',\n",
       "  'A03'],\n",
       " 98047: ['X', 'AE', 'C'],\n",
       " 98050: ['X'],\n",
       " 98051: ['X', 'D'],\n",
       " 98052: ['AE', 'X', 'A', 'A06', 'B'],\n",
       " 98053: ['X', 'AE', 'A'],\n",
       " 98055: ['X', 'AHB', 'AE'],\n",
       " 98056: ['X', 'AE'],\n",
       " 98057: ['X', 'AE', 'C', 'AH', 'AHB', 'A04', 'A'],\n",
       " 98058: ['AE', 'X', 'A', 'A05', 'C', 'A07', 'B'],\n",
       " 98059: ['X', 'AE', 'C'],\n",
       " 98064: ['X'],\n",
       " 98065: ['AE', 'X', 'A11', 'A12', 'A', 'AO', 'A05', 'A09', 'D', 'C'],\n",
       " 98068: ['AE', 'D', 'C'],\n",
       " 98070: ['A', 'X', 'C', 'AE', 'B'],\n",
       " 98071: ['X'],\n",
       " 98072: ['X', 'AE'],\n",
       " 98074: ['X', 'AE', 'C'],\n",
       " 98075: ['AE', 'X', 'A', 'C'],\n",
       " 98077: ['X', 'A', 'AE'],\n",
       " 98092: ['X', 'A', 'AE', 'AHB', 'A01', 'C', 'AH'],\n",
       " 98101: ['X', 'A'],\n",
       " 98102: ['X'],\n",
       " 98103: ['X'],\n",
       " 98104: ['X', 'AO', 'A', 'AOB'],\n",
       " 98105: ['X'],\n",
       " 98106: ['X', 'AE'],\n",
       " 98107: ['X', 'C'],\n",
       " 98108: ['X', 'A', 'AE'],\n",
       " 98109: ['X'],\n",
       " 98111: ['X', 'A'],\n",
       " 98112: ['X'],\n",
       " 98115: ['X', 'AE', 'C'],\n",
       " 98116: ['X', 'A', 'C'],\n",
       " 98117: ['X', 'A'],\n",
       " 98118: ['X'],\n",
       " 98119: ['X'],\n",
       " 98121: ['X'],\n",
       " 98122: ['X'],\n",
       " 98125: ['X', 'AE', 'A', 'C'],\n",
       " 98126: ['X', 'C'],\n",
       " 98133: ['X', 'A', 'AE', 'C'],\n",
       " 98134: ['X'],\n",
       " 98136: ['X', 'A'],\n",
       " 98138: ['X'],\n",
       " 98144: ['X'],\n",
       " 98146: ['X', 'A', 'VE', 'C', 'AO'],\n",
       " 98148: ['X', 'C', 'A'],\n",
       " 98155: ['X', 'A', 'AE', 'C'],\n",
       " 98166: ['X', 'A', 'AE', 'AO', 'VE', 'C', 'A03'],\n",
       " 98168: ['X', 'AE', 'C', 'AHB'],\n",
       " 98177: ['X', 'A', 'C'],\n",
       " 98178: ['X', 'AE'],\n",
       " 98188: ['X', 'AE', 'AH', 'AHB'],\n",
       " 98198: ['X', 'A', 'AE', 'C', 'VE'],\n",
       " 98199: ['X', 'A'],\n",
       " 98201: ['X'],\n",
       " 98224: ['AE', 'D', 'X', 'A', 'A06', 'C'],\n",
       " 98251: ['AE'],\n",
       " 98288: ['AE', 'X', 'A', 'D', 'A07'],\n",
       " 98302: ['X']}"
      ]
     },
     "execution_count": 15,
     "metadata": {},
     "output_type": "execute_result"
    }
   ],
   "source": [
    "flood_dict = flood_data.groupby(['reportedzipcode'])['floodzone'].apply(lambda grp: list(grp.value_counts().index)).to_dict()\n",
    "flood_dict"
   ]
  },
  {
   "cell_type": "markdown",
   "metadata": {},
   "source": [
    "#### We use different values (1 or 2) for  X (which is a very common category, because X can mean either moderate or low risk. When I attempted to use the value of 1.5, i kept getting an error about using floats, so instead we are created a 3rd column with the average of these two.\n",
    "\n",
    "#### We end up with a 3 flood score columns which reflect conservative, moderate, and low conservative values"
   ]
  },
  {
   "cell_type": "code",
   "execution_count": 16,
   "metadata": {},
   "outputs": [
    {
     "data": {
      "text/html": [
       "<div>\n",
       "<style scoped>\n",
       "    .dataframe tbody tr th:only-of-type {\n",
       "        vertical-align: middle;\n",
       "    }\n",
       "\n",
       "    .dataframe tbody tr th {\n",
       "        vertical-align: top;\n",
       "    }\n",
       "\n",
       "    .dataframe thead th {\n",
       "        text-align: right;\n",
       "    }\n",
       "</style>\n",
       "<table border=\"1\" class=\"dataframe\">\n",
       "  <thead>\n",
       "    <tr style=\"text-align: right;\">\n",
       "      <th></th>\n",
       "      <th>countycode</th>\n",
       "      <th>deductibleamountinbuildingcoverage</th>\n",
       "      <th>elevatedbuildingindicator</th>\n",
       "      <th>elevationdifference</th>\n",
       "      <th>floodzone</th>\n",
       "      <th>reportedzipcode</th>\n",
       "      <th>totalinsurancepremiumofthepolicy</th>\n",
       "    </tr>\n",
       "  </thead>\n",
       "  <tbody>\n",
       "    <tr>\n",
       "      <th>147</th>\n",
       "      <td>53033</td>\n",
       "      <td>1</td>\n",
       "      <td>N</td>\n",
       "      <td>999.0</td>\n",
       "      <td>X</td>\n",
       "      <td>98055</td>\n",
       "      <td>335.0</td>\n",
       "    </tr>\n",
       "    <tr>\n",
       "      <th>216</th>\n",
       "      <td>53033</td>\n",
       "      <td>1</td>\n",
       "      <td>N</td>\n",
       "      <td>999.0</td>\n",
       "      <td>X</td>\n",
       "      <td>98002</td>\n",
       "      <td>375.0</td>\n",
       "    </tr>\n",
       "    <tr>\n",
       "      <th>483</th>\n",
       "      <td>53033</td>\n",
       "      <td>1</td>\n",
       "      <td>N</td>\n",
       "      <td>999.0</td>\n",
       "      <td>X</td>\n",
       "      <td>98002</td>\n",
       "      <td>335.0</td>\n",
       "    </tr>\n",
       "    <tr>\n",
       "      <th>800</th>\n",
       "      <td>53033</td>\n",
       "      <td>0</td>\n",
       "      <td>N</td>\n",
       "      <td>999.0</td>\n",
       "      <td>X</td>\n",
       "      <td>98133</td>\n",
       "      <td>1818.0</td>\n",
       "    </tr>\n",
       "    <tr>\n",
       "      <th>1261</th>\n",
       "      <td>53033</td>\n",
       "      <td>1</td>\n",
       "      <td>N</td>\n",
       "      <td>999.0</td>\n",
       "      <td>X</td>\n",
       "      <td>98001</td>\n",
       "      <td>335.0</td>\n",
       "    </tr>\n",
       "  </tbody>\n",
       "</table>\n",
       "</div>"
      ],
      "text/plain": [
       "      countycode deductibleamountinbuildingcoverage elevatedbuildingindicator  \\\n",
       "147        53033                                  1                         N   \n",
       "216        53033                                  1                         N   \n",
       "483        53033                                  1                         N   \n",
       "800        53033                                  0                         N   \n",
       "1261       53033                                  1                         N   \n",
       "\n",
       "      elevationdifference floodzone  reportedzipcode  \\\n",
       "147                 999.0         X            98055   \n",
       "216                 999.0         X            98002   \n",
       "483                 999.0         X            98002   \n",
       "800                 999.0         X            98133   \n",
       "1261                999.0         X            98001   \n",
       "\n",
       "      totalinsurancepremiumofthepolicy  \n",
       "147                              335.0  \n",
       "216                              375.0  \n",
       "483                              335.0  \n",
       "800                             1818.0  \n",
       "1261                             335.0  "
      ]
     },
     "execution_count": 16,
     "metadata": {},
     "output_type": "execute_result"
    }
   ],
   "source": [
    "flood_data.head()"
   ]
  },
  {
   "cell_type": "code",
   "execution_count": 31,
   "metadata": {},
   "outputs": [
    {
     "data": {
      "text/plain": [
       "{'A': 3,\n",
       " 'A01': 3,\n",
       " 'A02': 3,\n",
       " 'A03': 3,\n",
       " 'A04': 3,\n",
       " 'A05': 3,\n",
       " 'A06': 3,\n",
       " 'A07': 3,\n",
       " 'A09': 3,\n",
       " 'A10': 3,\n",
       " 'A11': 3,\n",
       " 'A12': 3,\n",
       " 'AE': 3,\n",
       " 'AH': 3,\n",
       " 'AHB': 3,\n",
       " 'AO': 3,\n",
       " 'AOB': 3,\n",
       " 'B': 2,\n",
       " 'C': 1,\n",
       " 'D': 1,\n",
       " 'VE': 3,\n",
       " 'X': 2}"
      ]
     },
     "execution_count": 31,
     "metadata": {},
     "output_type": "execute_result"
    }
   ],
   "source": [
    "unique_values = sorted(set(value for sublist in flood_dict.values() for value in sublist))\n",
    "dict_keys = list(unique_values)\n",
    "dict_values = [3,3,3,3,3,3,3,3,3,3,3,3,3,3,3,3,3,2,1,1,3,2]\n",
    "score_dict_1 = dict(zip(dict_keys, dict_values))\n",
    "\n",
    "score_dict_1"
   ]
  },
  {
   "cell_type": "code",
   "execution_count": 28,
   "metadata": {},
   "outputs": [
    {
     "data": {
      "text/plain": [
       "{'A': 3,\n",
       " 'A01': 3,\n",
       " 'A02': 3,\n",
       " 'A03': 3,\n",
       " 'A04': 3,\n",
       " 'A05': 3,\n",
       " 'A06': 3,\n",
       " 'A07': 3,\n",
       " 'A09': 3,\n",
       " 'A10': 3,\n",
       " 'A11': 3,\n",
       " 'A12': 3,\n",
       " 'AE': 3,\n",
       " 'AH': 3,\n",
       " 'AHB': 3,\n",
       " 'AO': 3,\n",
       " 'AOB': 3,\n",
       " 'B': 2,\n",
       " 'C': 1,\n",
       " 'D': 1,\n",
       " 'VE': 3,\n",
       " 'X': 1}"
      ]
     },
     "execution_count": 28,
     "metadata": {},
     "output_type": "execute_result"
    }
   ],
   "source": [
    "unique_values = sorted(set(value for sublist in flood_dict.values() for value in sublist))\n",
    "dict_keys = list(unique_values)\n",
    "dict_values = [3,3,3,3,3,3,3,3,3,3,3,3,3,3,3,3,3,2,1,1,3,1]\n",
    "score_dict_2 = dict(zip(dict_keys, dict_values))\n",
    "\n",
    "score_dict_2"
   ]
  },
  {
   "cell_type": "code",
   "execution_count": 32,
   "metadata": {},
   "outputs": [],
   "source": [
    "flood_data['area flood score 1'] = flood_data['floodzones in zipcode'].apply(lambda x: [score_dict_1[val] for val in x]).apply(lambda x: sum(x) / len(x))\n"
   ]
  },
  {
   "cell_type": "code",
   "execution_count": 33,
   "metadata": {},
   "outputs": [],
   "source": [
    "flood_data['area flood score 2'] = flood_data['floodzones in zipcode'].apply(lambda x: [score_dict_2[val] for val in x]).apply(lambda x: sum(x) / len(x))\n"
   ]
  },
  {
   "cell_type": "code",
   "execution_count": 34,
   "metadata": {},
   "outputs": [],
   "source": [
    "flood_data['average flood score'] = (flood_data['area flood score 1'] + flood_data['area flood score 2']) / 2"
   ]
  },
  {
   "cell_type": "code",
   "execution_count": 35,
   "metadata": {},
   "outputs": [
    {
     "data": {
      "text/html": [
       "<div>\n",
       "<style scoped>\n",
       "    .dataframe tbody tr th:only-of-type {\n",
       "        vertical-align: middle;\n",
       "    }\n",
       "\n",
       "    .dataframe tbody tr th {\n",
       "        vertical-align: top;\n",
       "    }\n",
       "\n",
       "    .dataframe thead th {\n",
       "        text-align: right;\n",
       "    }\n",
       "</style>\n",
       "<table border=\"1\" class=\"dataframe\">\n",
       "  <thead>\n",
       "    <tr style=\"text-align: right;\">\n",
       "      <th></th>\n",
       "      <th>countycode</th>\n",
       "      <th>deductibleamountinbuildingcoverage</th>\n",
       "      <th>elevatedbuildingindicator</th>\n",
       "      <th>elevationdifference</th>\n",
       "      <th>floodzone</th>\n",
       "      <th>reportedzipcode</th>\n",
       "      <th>totalinsurancepremiumofthepolicy</th>\n",
       "      <th>floodzones in zipcode</th>\n",
       "      <th>area flood score 2</th>\n",
       "      <th>area flood score 1</th>\n",
       "      <th>average flood score</th>\n",
       "    </tr>\n",
       "  </thead>\n",
       "  <tbody>\n",
       "    <tr>\n",
       "      <th>147</th>\n",
       "      <td>53033</td>\n",
       "      <td>1</td>\n",
       "      <td>N</td>\n",
       "      <td>999.0</td>\n",
       "      <td>X</td>\n",
       "      <td>98055</td>\n",
       "      <td>335.0</td>\n",
       "      <td>[X, AHB, AE]</td>\n",
       "      <td>2.333333</td>\n",
       "      <td>2.666667</td>\n",
       "      <td>2.500000</td>\n",
       "    </tr>\n",
       "    <tr>\n",
       "      <th>216</th>\n",
       "      <td>53033</td>\n",
       "      <td>1</td>\n",
       "      <td>N</td>\n",
       "      <td>999.0</td>\n",
       "      <td>X</td>\n",
       "      <td>98002</td>\n",
       "      <td>375.0</td>\n",
       "      <td>[X, AH, AE, AHB, C, AO]</td>\n",
       "      <td>2.333333</td>\n",
       "      <td>2.500000</td>\n",
       "      <td>2.416667</td>\n",
       "    </tr>\n",
       "    <tr>\n",
       "      <th>483</th>\n",
       "      <td>53033</td>\n",
       "      <td>1</td>\n",
       "      <td>N</td>\n",
       "      <td>999.0</td>\n",
       "      <td>X</td>\n",
       "      <td>98002</td>\n",
       "      <td>335.0</td>\n",
       "      <td>[X, AH, AE, AHB, C, AO]</td>\n",
       "      <td>2.333333</td>\n",
       "      <td>2.500000</td>\n",
       "      <td>2.416667</td>\n",
       "    </tr>\n",
       "    <tr>\n",
       "      <th>800</th>\n",
       "      <td>53033</td>\n",
       "      <td>0</td>\n",
       "      <td>N</td>\n",
       "      <td>999.0</td>\n",
       "      <td>X</td>\n",
       "      <td>98133</td>\n",
       "      <td>1818.0</td>\n",
       "      <td>[X, A, AE, C]</td>\n",
       "      <td>2.000000</td>\n",
       "      <td>2.250000</td>\n",
       "      <td>2.125000</td>\n",
       "    </tr>\n",
       "    <tr>\n",
       "      <th>1261</th>\n",
       "      <td>53033</td>\n",
       "      <td>1</td>\n",
       "      <td>N</td>\n",
       "      <td>999.0</td>\n",
       "      <td>X</td>\n",
       "      <td>98001</td>\n",
       "      <td>335.0</td>\n",
       "      <td>[X, AE, A, AH, C]</td>\n",
       "      <td>2.200000</td>\n",
       "      <td>2.400000</td>\n",
       "      <td>2.300000</td>\n",
       "    </tr>\n",
       "  </tbody>\n",
       "</table>\n",
       "</div>"
      ],
      "text/plain": [
       "      countycode deductibleamountinbuildingcoverage elevatedbuildingindicator  \\\n",
       "147        53033                                  1                         N   \n",
       "216        53033                                  1                         N   \n",
       "483        53033                                  1                         N   \n",
       "800        53033                                  0                         N   \n",
       "1261       53033                                  1                         N   \n",
       "\n",
       "      elevationdifference floodzone  reportedzipcode  \\\n",
       "147                 999.0         X            98055   \n",
       "216                 999.0         X            98002   \n",
       "483                 999.0         X            98002   \n",
       "800                 999.0         X            98133   \n",
       "1261                999.0         X            98001   \n",
       "\n",
       "      totalinsurancepremiumofthepolicy    floodzones in zipcode  \\\n",
       "147                              335.0             [X, AHB, AE]   \n",
       "216                              375.0  [X, AH, AE, AHB, C, AO]   \n",
       "483                              335.0  [X, AH, AE, AHB, C, AO]   \n",
       "800                             1818.0            [X, A, AE, C]   \n",
       "1261                             335.0        [X, AE, A, AH, C]   \n",
       "\n",
       "      area flood score 2  area flood score 1  average flood score  \n",
       "147             2.333333            2.666667             2.500000  \n",
       "216             2.333333            2.500000             2.416667  \n",
       "483             2.333333            2.500000             2.416667  \n",
       "800             2.000000            2.250000             2.125000  \n",
       "1261            2.200000            2.400000             2.300000  "
      ]
     },
     "execution_count": 35,
     "metadata": {},
     "output_type": "execute_result"
    }
   ],
   "source": [
    "flood_data.head()"
   ]
  },
  {
   "cell_type": "code",
   "execution_count": 36,
   "metadata": {},
   "outputs": [
    {
     "data": {
      "text/plain": [
       "Index(['countycode', 'deductibleamountinbuildingcoverage',\n",
       "       'elevatedbuildingindicator', 'elevationdifference', 'floodzone',\n",
       "       'reportedzipcode', 'totalinsurancepremiumofthepolicy',\n",
       "       'floodzones in zipcode', 'area flood score 2', 'area flood score 1',\n",
       "       'average flood score'],\n",
       "      dtype='object')"
      ]
     },
     "execution_count": 36,
     "metadata": {},
     "output_type": "execute_result"
    }
   ],
   "source": [
    "flood_data.columns"
   ]
  },
  {
   "cell_type": "markdown",
   "metadata": {},
   "source": [
    "# Dropping everything that isn't about zipcodes and flood data. "
   ]
  },
  {
   "cell_type": "code",
   "execution_count": 39,
   "metadata": {},
   "outputs": [],
   "source": [
    "flood_data.drop(['countycode','totalinsurancepremiumofthepolicy', 'elevatedbuildingindicator','elevationdifference','floodzone', 'deductibleamountinbuildingcoverage'], axis=1, inplace=True)"
   ]
  },
  {
   "cell_type": "code",
   "execution_count": 40,
   "metadata": {},
   "outputs": [
    {
     "data": {
      "text/plain": [
       "Index(['reportedzipcode', 'floodzones in zipcode', 'area flood score 2',\n",
       "       'area flood score 1', 'average flood score'],\n",
       "      dtype='object')"
      ]
     },
     "execution_count": 40,
     "metadata": {},
     "output_type": "execute_result"
    }
   ],
   "source": [
    "flood_data.columns"
   ]
  },
  {
   "cell_type": "code",
   "execution_count": 41,
   "metadata": {},
   "outputs": [],
   "source": [
    "#Renaming zipcode column\n",
    "flood_data.rename(columns={'reportedzipcode': 'zipcode'}, inplace=True)"
   ]
  },
  {
   "cell_type": "code",
   "execution_count": null,
   "metadata": {},
   "outputs": [],
   "source": [
    "# we then saved this to csv\n",
    "# flood_data.to_csv('flood_data.csv', index=False)"
   ]
  },
  {
   "cell_type": "markdown",
   "metadata": {},
   "source": [
    "# SECTION 2: HOUSING DATA CLEANING AND ANALYSIS\n"
   ]
  },
  {
   "cell_type": "markdown",
   "metadata": {},
   "source": [
    "###### Importing Libraries, Intitial Look at Housing Data"
   ]
  },
  {
   "cell_type": "code",
   "execution_count": 42,
   "metadata": {},
   "outputs": [],
   "source": [
    "import pandas as pd\n",
    "import matplotlib.pyplot as plt\n",
    "%matplotlib inline\n",
    "from scipy import stats\n",
    "import seaborn as sns\n",
    "import numpy as np\n",
    "import math"
   ]
  },
  {
   "cell_type": "code",
   "execution_count": 43,
   "metadata": {},
   "outputs": [],
   "source": [
    "df = pd.read_csv('/Users/admin/Documents/Flatiron/Housing_Prices_and_Flood_Risk/data/kc_house_data.csv')"
   ]
  },
  {
   "cell_type": "code",
   "execution_count": 44,
   "metadata": {},
   "outputs": [
    {
     "data": {
      "text/plain": [
       "Index(['id', 'date', 'price', 'bedrooms', 'bathrooms', 'sqft_living',\n",
       "       'sqft_lot', 'floors', 'waterfront', 'greenbelt', 'nuisance', 'view',\n",
       "       'condition', 'grade', 'heat_source', 'sewer_system', 'sqft_above',\n",
       "       'sqft_basement', 'sqft_garage', 'sqft_patio', 'yr_built',\n",
       "       'yr_renovated', 'address', 'lat', 'long'],\n",
       "      dtype='object')"
      ]
     },
     "execution_count": 44,
     "metadata": {},
     "output_type": "execute_result"
    }
   ],
   "source": [
    "df.columns"
   ]
  },
  {
   "cell_type": "code",
   "execution_count": 45,
   "metadata": {},
   "outputs": [
    {
     "name": "stdout",
     "output_type": "stream",
     "text": [
      "<class 'pandas.core.frame.DataFrame'>\n",
      "RangeIndex: 30155 entries, 0 to 30154\n",
      "Data columns (total 25 columns):\n",
      " #   Column         Non-Null Count  Dtype  \n",
      "---  ------         --------------  -----  \n",
      " 0   id             30155 non-null  int64  \n",
      " 1   date           30155 non-null  object \n",
      " 2   price          30155 non-null  float64\n",
      " 3   bedrooms       30155 non-null  int64  \n",
      " 4   bathrooms      30155 non-null  float64\n",
      " 5   sqft_living    30155 non-null  int64  \n",
      " 6   sqft_lot       30155 non-null  int64  \n",
      " 7   floors         30155 non-null  float64\n",
      " 8   waterfront     30155 non-null  object \n",
      " 9   greenbelt      30155 non-null  object \n",
      " 10  nuisance       30155 non-null  object \n",
      " 11  view           30155 non-null  object \n",
      " 12  condition      30155 non-null  object \n",
      " 13  grade          30155 non-null  object \n",
      " 14  heat_source    30123 non-null  object \n",
      " 15  sewer_system   30141 non-null  object \n",
      " 16  sqft_above     30155 non-null  int64  \n",
      " 17  sqft_basement  30155 non-null  int64  \n",
      " 18  sqft_garage    30155 non-null  int64  \n",
      " 19  sqft_patio     30155 non-null  int64  \n",
      " 20  yr_built       30155 non-null  int64  \n",
      " 21  yr_renovated   30155 non-null  int64  \n",
      " 22  address        30155 non-null  object \n",
      " 23  lat            30155 non-null  float64\n",
      " 24  long           30155 non-null  float64\n",
      "dtypes: float64(5), int64(10), object(10)\n",
      "memory usage: 5.8+ MB\n"
     ]
    }
   ],
   "source": [
    "df.info()"
   ]
  },
  {
   "cell_type": "code",
   "execution_count": 46,
   "metadata": {},
   "outputs": [
    {
     "data": {
      "text/plain": [
       "<bound method NDFrame.sample of 0        2102 Southeast 21st Court, Renton, Washington ...\n",
       "1        11231 Greenwood Avenue North, Seattle, Washing...\n",
       "2        8504 South 113th Street, Seattle, Washington 9...\n",
       "3        4079 Letitia Avenue South, Seattle, Washington...\n",
       "4        2193 Northwest Talus Drive, Issaquah, Washingt...\n",
       "                               ...                        \n",
       "30150    4673 Eastern Avenue North, Seattle, Washington...\n",
       "30151    4131 44th Avenue Southwest, Seattle, Washingto...\n",
       "30152    910 Martin Luther King Jr Way, Seattle, Washin...\n",
       "30153    17127 114th Avenue Southeast, Renton, Washingt...\n",
       "30154    18615 7th Avenue South, Burien, Washington 981...\n",
       "Name: address, Length: 30155, dtype: object>"
      ]
     },
     "execution_count": 46,
     "metadata": {},
     "output_type": "execute_result"
    }
   ],
   "source": [
    "df['address'].sample"
   ]
  },
  {
   "cell_type": "code",
   "execution_count": 47,
   "metadata": {},
   "outputs": [
    {
     "data": {
      "text/html": [
       "<div>\n",
       "<style scoped>\n",
       "    .dataframe tbody tr th:only-of-type {\n",
       "        vertical-align: middle;\n",
       "    }\n",
       "\n",
       "    .dataframe tbody tr th {\n",
       "        vertical-align: top;\n",
       "    }\n",
       "\n",
       "    .dataframe thead th {\n",
       "        text-align: right;\n",
       "    }\n",
       "</style>\n",
       "<table border=\"1\" class=\"dataframe\">\n",
       "  <thead>\n",
       "    <tr style=\"text-align: right;\">\n",
       "      <th></th>\n",
       "      <th>id</th>\n",
       "      <th>date</th>\n",
       "      <th>price</th>\n",
       "      <th>bedrooms</th>\n",
       "      <th>bathrooms</th>\n",
       "      <th>sqft_living</th>\n",
       "      <th>sqft_lot</th>\n",
       "      <th>floors</th>\n",
       "      <th>waterfront</th>\n",
       "      <th>greenbelt</th>\n",
       "      <th>...</th>\n",
       "      <th>sewer_system</th>\n",
       "      <th>sqft_above</th>\n",
       "      <th>sqft_basement</th>\n",
       "      <th>sqft_garage</th>\n",
       "      <th>sqft_patio</th>\n",
       "      <th>yr_built</th>\n",
       "      <th>yr_renovated</th>\n",
       "      <th>address</th>\n",
       "      <th>lat</th>\n",
       "      <th>long</th>\n",
       "    </tr>\n",
       "  </thead>\n",
       "  <tbody>\n",
       "    <tr>\n",
       "      <th>count</th>\n",
       "      <td>3.015500e+04</td>\n",
       "      <td>30155</td>\n",
       "      <td>3.015500e+04</td>\n",
       "      <td>30155.000000</td>\n",
       "      <td>30155.000000</td>\n",
       "      <td>30155.000000</td>\n",
       "      <td>3.015500e+04</td>\n",
       "      <td>30155.000000</td>\n",
       "      <td>30155</td>\n",
       "      <td>30155</td>\n",
       "      <td>...</td>\n",
       "      <td>30141</td>\n",
       "      <td>30155.000000</td>\n",
       "      <td>30155.000000</td>\n",
       "      <td>30155.000000</td>\n",
       "      <td>30155.000000</td>\n",
       "      <td>30155.000000</td>\n",
       "      <td>30155.000000</td>\n",
       "      <td>30155</td>\n",
       "      <td>30155.000000</td>\n",
       "      <td>30155.000000</td>\n",
       "    </tr>\n",
       "    <tr>\n",
       "      <th>unique</th>\n",
       "      <td>NaN</td>\n",
       "      <td>365</td>\n",
       "      <td>NaN</td>\n",
       "      <td>NaN</td>\n",
       "      <td>NaN</td>\n",
       "      <td>NaN</td>\n",
       "      <td>NaN</td>\n",
       "      <td>NaN</td>\n",
       "      <td>2</td>\n",
       "      <td>2</td>\n",
       "      <td>...</td>\n",
       "      <td>4</td>\n",
       "      <td>NaN</td>\n",
       "      <td>NaN</td>\n",
       "      <td>NaN</td>\n",
       "      <td>NaN</td>\n",
       "      <td>NaN</td>\n",
       "      <td>NaN</td>\n",
       "      <td>29560</td>\n",
       "      <td>NaN</td>\n",
       "      <td>NaN</td>\n",
       "    </tr>\n",
       "    <tr>\n",
       "      <th>top</th>\n",
       "      <td>NaN</td>\n",
       "      <td>7/1/2021</td>\n",
       "      <td>NaN</td>\n",
       "      <td>NaN</td>\n",
       "      <td>NaN</td>\n",
       "      <td>NaN</td>\n",
       "      <td>NaN</td>\n",
       "      <td>NaN</td>\n",
       "      <td>NO</td>\n",
       "      <td>NO</td>\n",
       "      <td>...</td>\n",
       "      <td>PUBLIC</td>\n",
       "      <td>NaN</td>\n",
       "      <td>NaN</td>\n",
       "      <td>NaN</td>\n",
       "      <td>NaN</td>\n",
       "      <td>NaN</td>\n",
       "      <td>NaN</td>\n",
       "      <td>Avenue, 108 Foothill Blvd, Rancho Cucamonga, C...</td>\n",
       "      <td>NaN</td>\n",
       "      <td>NaN</td>\n",
       "    </tr>\n",
       "    <tr>\n",
       "      <th>freq</th>\n",
       "      <td>NaN</td>\n",
       "      <td>196</td>\n",
       "      <td>NaN</td>\n",
       "      <td>NaN</td>\n",
       "      <td>NaN</td>\n",
       "      <td>NaN</td>\n",
       "      <td>NaN</td>\n",
       "      <td>NaN</td>\n",
       "      <td>29636</td>\n",
       "      <td>29382</td>\n",
       "      <td>...</td>\n",
       "      <td>25777</td>\n",
       "      <td>NaN</td>\n",
       "      <td>NaN</td>\n",
       "      <td>NaN</td>\n",
       "      <td>NaN</td>\n",
       "      <td>NaN</td>\n",
       "      <td>NaN</td>\n",
       "      <td>38</td>\n",
       "      <td>NaN</td>\n",
       "      <td>NaN</td>\n",
       "    </tr>\n",
       "    <tr>\n",
       "      <th>mean</th>\n",
       "      <td>4.538104e+09</td>\n",
       "      <td>NaN</td>\n",
       "      <td>1.108536e+06</td>\n",
       "      <td>3.413530</td>\n",
       "      <td>2.334737</td>\n",
       "      <td>2112.424739</td>\n",
       "      <td>1.672360e+04</td>\n",
       "      <td>1.543492</td>\n",
       "      <td>NaN</td>\n",
       "      <td>NaN</td>\n",
       "      <td>...</td>\n",
       "      <td>NaN</td>\n",
       "      <td>1809.826098</td>\n",
       "      <td>476.039396</td>\n",
       "      <td>330.211142</td>\n",
       "      <td>217.412038</td>\n",
       "      <td>1975.163953</td>\n",
       "      <td>90.922301</td>\n",
       "      <td>NaN</td>\n",
       "      <td>47.328076</td>\n",
       "      <td>-121.317397</td>\n",
       "    </tr>\n",
       "    <tr>\n",
       "      <th>std</th>\n",
       "      <td>2.882587e+09</td>\n",
       "      <td>NaN</td>\n",
       "      <td>8.963857e+05</td>\n",
       "      <td>0.981612</td>\n",
       "      <td>0.889556</td>\n",
       "      <td>974.044318</td>\n",
       "      <td>6.038260e+04</td>\n",
       "      <td>0.567717</td>\n",
       "      <td>NaN</td>\n",
       "      <td>NaN</td>\n",
       "      <td>...</td>\n",
       "      <td>NaN</td>\n",
       "      <td>878.306131</td>\n",
       "      <td>579.631302</td>\n",
       "      <td>285.770536</td>\n",
       "      <td>245.302792</td>\n",
       "      <td>32.067362</td>\n",
       "      <td>416.473038</td>\n",
       "      <td>NaN</td>\n",
       "      <td>1.434005</td>\n",
       "      <td>5.725475</td>\n",
       "    </tr>\n",
       "    <tr>\n",
       "      <th>min</th>\n",
       "      <td>1.000055e+06</td>\n",
       "      <td>NaN</td>\n",
       "      <td>2.736000e+04</td>\n",
       "      <td>0.000000</td>\n",
       "      <td>0.000000</td>\n",
       "      <td>3.000000</td>\n",
       "      <td>4.020000e+02</td>\n",
       "      <td>1.000000</td>\n",
       "      <td>NaN</td>\n",
       "      <td>NaN</td>\n",
       "      <td>...</td>\n",
       "      <td>NaN</td>\n",
       "      <td>2.000000</td>\n",
       "      <td>0.000000</td>\n",
       "      <td>0.000000</td>\n",
       "      <td>0.000000</td>\n",
       "      <td>1900.000000</td>\n",
       "      <td>0.000000</td>\n",
       "      <td>NaN</td>\n",
       "      <td>21.274240</td>\n",
       "      <td>-157.791480</td>\n",
       "    </tr>\n",
       "    <tr>\n",
       "      <th>25%</th>\n",
       "      <td>2.064175e+09</td>\n",
       "      <td>NaN</td>\n",
       "      <td>6.480000e+05</td>\n",
       "      <td>3.000000</td>\n",
       "      <td>2.000000</td>\n",
       "      <td>1420.000000</td>\n",
       "      <td>4.850000e+03</td>\n",
       "      <td>1.000000</td>\n",
       "      <td>NaN</td>\n",
       "      <td>NaN</td>\n",
       "      <td>...</td>\n",
       "      <td>NaN</td>\n",
       "      <td>1180.000000</td>\n",
       "      <td>0.000000</td>\n",
       "      <td>0.000000</td>\n",
       "      <td>40.000000</td>\n",
       "      <td>1953.000000</td>\n",
       "      <td>0.000000</td>\n",
       "      <td>NaN</td>\n",
       "      <td>47.405320</td>\n",
       "      <td>-122.326045</td>\n",
       "    </tr>\n",
       "    <tr>\n",
       "      <th>50%</th>\n",
       "      <td>3.874011e+09</td>\n",
       "      <td>NaN</td>\n",
       "      <td>8.600000e+05</td>\n",
       "      <td>3.000000</td>\n",
       "      <td>2.500000</td>\n",
       "      <td>1920.000000</td>\n",
       "      <td>7.480000e+03</td>\n",
       "      <td>1.500000</td>\n",
       "      <td>NaN</td>\n",
       "      <td>NaN</td>\n",
       "      <td>...</td>\n",
       "      <td>NaN</td>\n",
       "      <td>1560.000000</td>\n",
       "      <td>0.000000</td>\n",
       "      <td>400.000000</td>\n",
       "      <td>150.000000</td>\n",
       "      <td>1977.000000</td>\n",
       "      <td>0.000000</td>\n",
       "      <td>NaN</td>\n",
       "      <td>47.551380</td>\n",
       "      <td>-122.225585</td>\n",
       "    </tr>\n",
       "    <tr>\n",
       "      <th>75%</th>\n",
       "      <td>7.287100e+09</td>\n",
       "      <td>NaN</td>\n",
       "      <td>1.300000e+06</td>\n",
       "      <td>4.000000</td>\n",
       "      <td>3.000000</td>\n",
       "      <td>2619.500000</td>\n",
       "      <td>1.057900e+04</td>\n",
       "      <td>2.000000</td>\n",
       "      <td>NaN</td>\n",
       "      <td>NaN</td>\n",
       "      <td>...</td>\n",
       "      <td>NaN</td>\n",
       "      <td>2270.000000</td>\n",
       "      <td>940.000000</td>\n",
       "      <td>510.000000</td>\n",
       "      <td>320.000000</td>\n",
       "      <td>2003.000000</td>\n",
       "      <td>0.000000</td>\n",
       "      <td>NaN</td>\n",
       "      <td>47.669913</td>\n",
       "      <td>-122.116205</td>\n",
       "    </tr>\n",
       "    <tr>\n",
       "      <th>max</th>\n",
       "      <td>9.904000e+09</td>\n",
       "      <td>NaN</td>\n",
       "      <td>3.075000e+07</td>\n",
       "      <td>13.000000</td>\n",
       "      <td>10.500000</td>\n",
       "      <td>15360.000000</td>\n",
       "      <td>3.253932e+06</td>\n",
       "      <td>4.000000</td>\n",
       "      <td>NaN</td>\n",
       "      <td>NaN</td>\n",
       "      <td>...</td>\n",
       "      <td>NaN</td>\n",
       "      <td>12660.000000</td>\n",
       "      <td>8020.000000</td>\n",
       "      <td>3580.000000</td>\n",
       "      <td>4370.000000</td>\n",
       "      <td>2022.000000</td>\n",
       "      <td>2022.000000</td>\n",
       "      <td>NaN</td>\n",
       "      <td>64.824070</td>\n",
       "      <td>-70.074340</td>\n",
       "    </tr>\n",
       "  </tbody>\n",
       "</table>\n",
       "<p>11 rows × 25 columns</p>\n",
       "</div>"
      ],
      "text/plain": [
       "                  id      date         price      bedrooms     bathrooms  \\\n",
       "count   3.015500e+04     30155  3.015500e+04  30155.000000  30155.000000   \n",
       "unique           NaN       365           NaN           NaN           NaN   \n",
       "top              NaN  7/1/2021           NaN           NaN           NaN   \n",
       "freq             NaN       196           NaN           NaN           NaN   \n",
       "mean    4.538104e+09       NaN  1.108536e+06      3.413530      2.334737   \n",
       "std     2.882587e+09       NaN  8.963857e+05      0.981612      0.889556   \n",
       "min     1.000055e+06       NaN  2.736000e+04      0.000000      0.000000   \n",
       "25%     2.064175e+09       NaN  6.480000e+05      3.000000      2.000000   \n",
       "50%     3.874011e+09       NaN  8.600000e+05      3.000000      2.500000   \n",
       "75%     7.287100e+09       NaN  1.300000e+06      4.000000      3.000000   \n",
       "max     9.904000e+09       NaN  3.075000e+07     13.000000     10.500000   \n",
       "\n",
       "         sqft_living      sqft_lot        floors waterfront greenbelt  ...  \\\n",
       "count   30155.000000  3.015500e+04  30155.000000      30155     30155  ...   \n",
       "unique           NaN           NaN           NaN          2         2  ...   \n",
       "top              NaN           NaN           NaN         NO        NO  ...   \n",
       "freq             NaN           NaN           NaN      29636     29382  ...   \n",
       "mean     2112.424739  1.672360e+04      1.543492        NaN       NaN  ...   \n",
       "std       974.044318  6.038260e+04      0.567717        NaN       NaN  ...   \n",
       "min         3.000000  4.020000e+02      1.000000        NaN       NaN  ...   \n",
       "25%      1420.000000  4.850000e+03      1.000000        NaN       NaN  ...   \n",
       "50%      1920.000000  7.480000e+03      1.500000        NaN       NaN  ...   \n",
       "75%      2619.500000  1.057900e+04      2.000000        NaN       NaN  ...   \n",
       "max     15360.000000  3.253932e+06      4.000000        NaN       NaN  ...   \n",
       "\n",
       "       sewer_system    sqft_above sqft_basement   sqft_garage    sqft_patio  \\\n",
       "count         30141  30155.000000  30155.000000  30155.000000  30155.000000   \n",
       "unique            4           NaN           NaN           NaN           NaN   \n",
       "top          PUBLIC           NaN           NaN           NaN           NaN   \n",
       "freq          25777           NaN           NaN           NaN           NaN   \n",
       "mean            NaN   1809.826098    476.039396    330.211142    217.412038   \n",
       "std             NaN    878.306131    579.631302    285.770536    245.302792   \n",
       "min             NaN      2.000000      0.000000      0.000000      0.000000   \n",
       "25%             NaN   1180.000000      0.000000      0.000000     40.000000   \n",
       "50%             NaN   1560.000000      0.000000    400.000000    150.000000   \n",
       "75%             NaN   2270.000000    940.000000    510.000000    320.000000   \n",
       "max             NaN  12660.000000   8020.000000   3580.000000   4370.000000   \n",
       "\n",
       "            yr_built  yr_renovated  \\\n",
       "count   30155.000000  30155.000000   \n",
       "unique           NaN           NaN   \n",
       "top              NaN           NaN   \n",
       "freq             NaN           NaN   \n",
       "mean     1975.163953     90.922301   \n",
       "std        32.067362    416.473038   \n",
       "min      1900.000000      0.000000   \n",
       "25%      1953.000000      0.000000   \n",
       "50%      1977.000000      0.000000   \n",
       "75%      2003.000000      0.000000   \n",
       "max      2022.000000   2022.000000   \n",
       "\n",
       "                                                  address           lat  \\\n",
       "count                                               30155  30155.000000   \n",
       "unique                                              29560           NaN   \n",
       "top     Avenue, 108 Foothill Blvd, Rancho Cucamonga, C...           NaN   \n",
       "freq                                                   38           NaN   \n",
       "mean                                                  NaN     47.328076   \n",
       "std                                                   NaN      1.434005   \n",
       "min                                                   NaN     21.274240   \n",
       "25%                                                   NaN     47.405320   \n",
       "50%                                                   NaN     47.551380   \n",
       "75%                                                   NaN     47.669913   \n",
       "max                                                   NaN     64.824070   \n",
       "\n",
       "                long  \n",
       "count   30155.000000  \n",
       "unique           NaN  \n",
       "top              NaN  \n",
       "freq             NaN  \n",
       "mean     -121.317397  \n",
       "std         5.725475  \n",
       "min      -157.791480  \n",
       "25%      -122.326045  \n",
       "50%      -122.225585  \n",
       "75%      -122.116205  \n",
       "max       -70.074340  \n",
       "\n",
       "[11 rows x 25 columns]"
      ]
     },
     "execution_count": 47,
     "metadata": {},
     "output_type": "execute_result"
    }
   ],
   "source": [
    "df.describe(include=\"all\")"
   ]
  },
  {
   "cell_type": "markdown",
   "metadata": {},
   "source": [
    "Should be able to drop nulls, since they are only a small ratio and only in 2 columns \n",
    "(heat_source and sewer_system). need to check and make sure there aren't other null values (encoded, for instance,\n",
    "as zeroes)"
   ]
  },
  {
   "cell_type": "markdown",
   "metadata": {},
   "source": [
    "Location is of course going to be fundamental, so need to parse the address data as separate strings to. May also be able to use lat/long, but must be mindful of this creating collinearity"
   ]
  },
  {
   "cell_type": "markdown",
   "metadata": {},
   "source": [
    "Given interest in climate change effects (pre-determined), flooding might be easiest to look at. do these prices relate to flood-prone areas? how might these values shift given the effects of climate change? look at \"greenbelt\", \"grade\", \"lat\", \"long\", \"waterfront\" etc. We can't do a lot of EDA here since we are really looking for correspondences with data that doesn't exist yet."
   ]
  },
  {
   "cell_type": "markdown",
   "metadata": {},
   "source": [
    "Random sampling indicates the coordinates do match up exactly with street addresses"
   ]
  },
  {
   "cell_type": "markdown",
   "metadata": {},
   "source": [
    "Got relevant flood data as a csv file. now need to clean this data so we can merge on a common column, which\n",
    "in this case in zip code"
   ]
  },
  {
   "cell_type": "markdown",
   "metadata": {},
   "source": [
    "# Initial cleaning for merge"
   ]
  },
  {
   "cell_type": "code",
   "execution_count": 1,
   "metadata": {},
   "outputs": [
    {
     "ename": "NameError",
     "evalue": "name 'df' is not defined",
     "output_type": "error",
     "traceback": [
      "\u001b[0;31m---------------------------------------------------------------------------\u001b[0m",
      "\u001b[0;31mNameError\u001b[0m                                 Traceback (most recent call last)",
      "\u001b[0;32m<ipython-input-1-ce54a40909fd>\u001b[0m in \u001b[0;36m<module>\u001b[0;34m\u001b[0m\n\u001b[0;32m----> 1\u001b[0;31m \u001b[0mdf\u001b[0m\u001b[0;34m[\u001b[0m\u001b[0;34m[\u001b[0m\u001b[0;34m'street address'\u001b[0m\u001b[0;34m,\u001b[0m \u001b[0;34m'city'\u001b[0m\u001b[0;34m,\u001b[0m \u001b[0;34m'state'\u001b[0m\u001b[0;34m,\u001b[0m\u001b[0;34m'zipcode'\u001b[0m\u001b[0;34m]\u001b[0m\u001b[0;34m]\u001b[0m \u001b[0;34m=\u001b[0m \u001b[0mdf\u001b[0m\u001b[0;34m[\u001b[0m\u001b[0;34m'address'\u001b[0m\u001b[0;34m]\u001b[0m\u001b[0;34m.\u001b[0m\u001b[0mstr\u001b[0m\u001b[0;34m.\u001b[0m\u001b[0msplit\u001b[0m\u001b[0;34m(\u001b[0m\u001b[0;34m','\u001b[0m\u001b[0;34m,\u001b[0m \u001b[0mexpand\u001b[0m\u001b[0;34m=\u001b[0m\u001b[0;32mTrue\u001b[0m\u001b[0;34m)\u001b[0m\u001b[0;34m\u001b[0m\u001b[0;34m\u001b[0m\u001b[0m\n\u001b[0m\u001b[1;32m      2\u001b[0m \u001b[0mdf\u001b[0m\u001b[0;34m[\u001b[0m\u001b[0;34m'street address'\u001b[0m\u001b[0;34m]\u001b[0m \u001b[0;34m=\u001b[0m \u001b[0mdf\u001b[0m\u001b[0;34m[\u001b[0m\u001b[0;34m'street address'\u001b[0m\u001b[0;34m]\u001b[0m\u001b[0;34m.\u001b[0m\u001b[0mstr\u001b[0m\u001b[0;34m.\u001b[0m\u001b[0mstrip\u001b[0m\u001b[0;34m(\u001b[0m\u001b[0;34m)\u001b[0m\u001b[0;34m\u001b[0m\u001b[0;34m\u001b[0m\u001b[0m\n\u001b[1;32m      3\u001b[0m \u001b[0mdf\u001b[0m\u001b[0;34m[\u001b[0m\u001b[0;34m'city'\u001b[0m\u001b[0;34m]\u001b[0m \u001b[0;34m=\u001b[0m \u001b[0mdf\u001b[0m\u001b[0;34m[\u001b[0m\u001b[0;34m'city'\u001b[0m\u001b[0;34m]\u001b[0m\u001b[0;34m.\u001b[0m\u001b[0mstr\u001b[0m\u001b[0;34m.\u001b[0m\u001b[0mstrip\u001b[0m\u001b[0;34m(\u001b[0m\u001b[0;34m)\u001b[0m\u001b[0;34m\u001b[0m\u001b[0;34m\u001b[0m\u001b[0m\n\u001b[1;32m      4\u001b[0m \u001b[0mdf\u001b[0m\u001b[0;34m[\u001b[0m\u001b[0;34m'state'\u001b[0m\u001b[0;34m]\u001b[0m \u001b[0;34m=\u001b[0m \u001b[0mdf\u001b[0m\u001b[0;34m[\u001b[0m\u001b[0;34m'state'\u001b[0m\u001b[0;34m]\u001b[0m\u001b[0;34m.\u001b[0m\u001b[0mstr\u001b[0m\u001b[0;34m.\u001b[0m\u001b[0mstrip\u001b[0m\u001b[0;34m(\u001b[0m\u001b[0;34m)\u001b[0m\u001b[0;34m\u001b[0m\u001b[0;34m\u001b[0m\u001b[0m\n\u001b[1;32m      5\u001b[0m \u001b[0mdf\u001b[0m\u001b[0;34m[\u001b[0m\u001b[0;34m'zipcode'\u001b[0m\u001b[0;34m]\u001b[0m \u001b[0;34m=\u001b[0m \u001b[0mdf\u001b[0m\u001b[0;34m[\u001b[0m\u001b[0;34m'zipcode'\u001b[0m\u001b[0;34m]\u001b[0m\u001b[0;34m.\u001b[0m\u001b[0mstr\u001b[0m\u001b[0;34m.\u001b[0m\u001b[0mstrip\u001b[0m\u001b[0;34m(\u001b[0m\u001b[0;34m)\u001b[0m\u001b[0;34m\u001b[0m\u001b[0;34m\u001b[0m\u001b[0m\n",
      "\u001b[0;31mNameError\u001b[0m: name 'df' is not defined"
     ]
    }
   ],
   "source": [
    "\n",
    "df[['street address', 'city', 'state','zipcode']] = df['address'].str.split(',', expand=True)\n",
    "df['street address'] = df['street address'].str.strip()\n",
    "df['city'] = df['city'].str.strip()\n",
    "df['state'] = df['state'].str.strip()\n",
    "df['zipcode'] = df['zipcode'].str.strip()\n",
    "\n",
    "df.to_csv('cleaned_housing_data.csv', index=False)\n"
   ]
  },
  {
   "cell_type": "code",
   "execution_count": null,
   "metadata": {},
   "outputs": [],
   "source": []
  }
 ],
 "metadata": {
  "kernelspec": {
   "display_name": "Python (learn-env)",
   "language": "python",
   "name": "learn-env"
  },
  "language_info": {
   "codemirror_mode": {
    "name": "ipython",
    "version": 3
   },
   "file_extension": ".py",
   "mimetype": "text/x-python",
   "name": "python",
   "nbconvert_exporter": "python",
   "pygments_lexer": "ipython3",
   "version": "3.8.5"
  }
 },
 "nbformat": 4,
 "nbformat_minor": 4
}
