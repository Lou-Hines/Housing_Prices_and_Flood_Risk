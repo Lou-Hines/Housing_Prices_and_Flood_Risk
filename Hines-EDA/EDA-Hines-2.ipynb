{
 "cells": [
  {
   "cell_type": "code",
   "execution_count": 55,
   "metadata": {},
   "outputs": [],
   "source": [
    "import pandas as pd\n",
    "data = pd.read_csv('/Users/admin/Downloads/NFIP/nfip-flood-policies.csv', nrows=100)"
   ]
  },
  {
   "cell_type": "code",
   "execution_count": 56,
   "metadata": {},
   "outputs": [
    {
     "data": {
      "text/html": [
       "<div>\n",
       "<style scoped>\n",
       "    .dataframe tbody tr th:only-of-type {\n",
       "        vertical-align: middle;\n",
       "    }\n",
       "\n",
       "    .dataframe tbody tr th {\n",
       "        vertical-align: top;\n",
       "    }\n",
       "\n",
       "    .dataframe thead th {\n",
       "        text-align: right;\n",
       "    }\n",
       "</style>\n",
       "<table border=\"1\" class=\"dataframe\">\n",
       "  <thead>\n",
       "    <tr style=\"text-align: right;\">\n",
       "      <th></th>\n",
       "      <th>agriculturestructureindicator</th>\n",
       "      <th>basefloodelevation</th>\n",
       "      <th>basementenclosurecrawlspacetype</th>\n",
       "      <th>cancellationdateoffloodpolicy</th>\n",
       "      <th>censustract</th>\n",
       "      <th>condominiumindicator</th>\n",
       "      <th>construction</th>\n",
       "      <th>countycode</th>\n",
       "      <th>crsdiscount</th>\n",
       "      <th>deductibleamountinbuildingcoverage</th>\n",
       "      <th>...</th>\n",
       "      <th>primaryresidenceindicator</th>\n",
       "      <th>propertystate</th>\n",
       "      <th>reportedzipcode</th>\n",
       "      <th>ratemethod</th>\n",
       "      <th>regularemergencyprogramindicator</th>\n",
       "      <th>reportedcity</th>\n",
       "      <th>smallbusinessindicatorbuilding</th>\n",
       "      <th>totalbuildinginsurancecoverage</th>\n",
       "      <th>totalcontentsinsurancecoverage</th>\n",
       "      <th>totalinsurancepremiumofthepolicy</th>\n",
       "    </tr>\n",
       "  </thead>\n",
       "  <tbody>\n",
       "    <tr>\n",
       "      <th>0</th>\n",
       "      <td>NaN</td>\n",
       "      <td>NaN</td>\n",
       "      <td>2</td>\n",
       "      <td>NaN</td>\n",
       "      <td>33013038500</td>\n",
       "      <td>N</td>\n",
       "      <td>N</td>\n",
       "      <td>33013</td>\n",
       "      <td>0.00</td>\n",
       "      <td>0.0</td>\n",
       "      <td>...</td>\n",
       "      <td>Y</td>\n",
       "      <td>NH</td>\n",
       "      <td>3278</td>\n",
       "      <td>7</td>\n",
       "      <td>R</td>\n",
       "      <td>WARNER</td>\n",
       "      <td>NaN</td>\n",
       "      <td>250000</td>\n",
       "      <td>100000</td>\n",
       "      <td>375</td>\n",
       "    </tr>\n",
       "    <tr>\n",
       "      <th>1</th>\n",
       "      <td>NaN</td>\n",
       "      <td>NaN</td>\n",
       "      <td>0</td>\n",
       "      <td>NaN</td>\n",
       "      <td>22063040700</td>\n",
       "      <td>N</td>\n",
       "      <td>N</td>\n",
       "      <td>22063</td>\n",
       "      <td>0.05</td>\n",
       "      <td>1.0</td>\n",
       "      <td>...</td>\n",
       "      <td>Y</td>\n",
       "      <td>LA</td>\n",
       "      <td>70726</td>\n",
       "      <td>1</td>\n",
       "      <td>R</td>\n",
       "      <td>DENHAM SPRINGS</td>\n",
       "      <td>NaN</td>\n",
       "      <td>16400</td>\n",
       "      <td>8800</td>\n",
       "      <td>280</td>\n",
       "    </tr>\n",
       "    <tr>\n",
       "      <th>2</th>\n",
       "      <td>NaN</td>\n",
       "      <td>NaN</td>\n",
       "      <td>0</td>\n",
       "      <td>NaN</td>\n",
       "      <td>45051060204</td>\n",
       "      <td>N</td>\n",
       "      <td>N</td>\n",
       "      <td>45051</td>\n",
       "      <td>0.00</td>\n",
       "      <td>0.0</td>\n",
       "      <td>...</td>\n",
       "      <td>Y</td>\n",
       "      <td>SC</td>\n",
       "      <td>29579</td>\n",
       "      <td>7</td>\n",
       "      <td>R</td>\n",
       "      <td>MYRTLE BEACH</td>\n",
       "      <td>NaN</td>\n",
       "      <td>250000</td>\n",
       "      <td>100000</td>\n",
       "      <td>335</td>\n",
       "    </tr>\n",
       "    <tr>\n",
       "      <th>3</th>\n",
       "      <td>NaN</td>\n",
       "      <td>519.0</td>\n",
       "      <td>2</td>\n",
       "      <td>2016-04-01</td>\n",
       "      <td>1055001200</td>\n",
       "      <td>N</td>\n",
       "      <td>N</td>\n",
       "      <td>1055</td>\n",
       "      <td>0.00</td>\n",
       "      <td>1.0</td>\n",
       "      <td>...</td>\n",
       "      <td>Y</td>\n",
       "      <td>AL</td>\n",
       "      <td>35901</td>\n",
       "      <td>2</td>\n",
       "      <td>R</td>\n",
       "      <td>GADSDEN</td>\n",
       "      <td>NaN</td>\n",
       "      <td>174900</td>\n",
       "      <td>21000</td>\n",
       "      <td>916</td>\n",
       "    </tr>\n",
       "    <tr>\n",
       "      <th>4</th>\n",
       "      <td>NaN</td>\n",
       "      <td>7.0</td>\n",
       "      <td>0</td>\n",
       "      <td>NaN</td>\n",
       "      <td>12086000115</td>\n",
       "      <td>N</td>\n",
       "      <td>N</td>\n",
       "      <td>12086</td>\n",
       "      <td>0.00</td>\n",
       "      <td>0.0</td>\n",
       "      <td>...</td>\n",
       "      <td>Y</td>\n",
       "      <td>FL</td>\n",
       "      <td>33160</td>\n",
       "      <td>1</td>\n",
       "      <td>R</td>\n",
       "      <td>GOLDEN BEACH</td>\n",
       "      <td>NaN</td>\n",
       "      <td>250000</td>\n",
       "      <td>100000</td>\n",
       "      <td>1288</td>\n",
       "    </tr>\n",
       "  </tbody>\n",
       "</table>\n",
       "<p>5 rows × 45 columns</p>\n",
       "</div>"
      ],
      "text/plain": [
       "   agriculturestructureindicator  basefloodelevation  \\\n",
       "0                            NaN                 NaN   \n",
       "1                            NaN                 NaN   \n",
       "2                            NaN                 NaN   \n",
       "3                            NaN               519.0   \n",
       "4                            NaN                 7.0   \n",
       "\n",
       "   basementenclosurecrawlspacetype cancellationdateoffloodpolicy  censustract  \\\n",
       "0                                2                           NaN  33013038500   \n",
       "1                                0                           NaN  22063040700   \n",
       "2                                0                           NaN  45051060204   \n",
       "3                                2                    2016-04-01   1055001200   \n",
       "4                                0                           NaN  12086000115   \n",
       "\n",
       "  condominiumindicator construction  countycode  crsdiscount  \\\n",
       "0                    N            N       33013         0.00   \n",
       "1                    N            N       22063         0.05   \n",
       "2                    N            N       45051         0.00   \n",
       "3                    N            N        1055         0.00   \n",
       "4                    N            N       12086         0.00   \n",
       "\n",
       "   deductibleamountinbuildingcoverage  ...  primaryresidenceindicator  \\\n",
       "0                                 0.0  ...                          Y   \n",
       "1                                 1.0  ...                          Y   \n",
       "2                                 0.0  ...                          Y   \n",
       "3                                 1.0  ...                          Y   \n",
       "4                                 0.0  ...                          Y   \n",
       "\n",
       "  propertystate  reportedzipcode  ratemethod  \\\n",
       "0            NH             3278           7   \n",
       "1            LA            70726           1   \n",
       "2            SC            29579           7   \n",
       "3            AL            35901           2   \n",
       "4            FL            33160           1   \n",
       "\n",
       "   regularemergencyprogramindicator    reportedcity  \\\n",
       "0                                 R          WARNER   \n",
       "1                                 R  DENHAM SPRINGS   \n",
       "2                                 R    MYRTLE BEACH   \n",
       "3                                 R         GADSDEN   \n",
       "4                                 R    GOLDEN BEACH   \n",
       "\n",
       "   smallbusinessindicatorbuilding  totalbuildinginsurancecoverage  \\\n",
       "0                             NaN                          250000   \n",
       "1                             NaN                           16400   \n",
       "2                             NaN                          250000   \n",
       "3                             NaN                          174900   \n",
       "4                             NaN                          250000   \n",
       "\n",
       "   totalcontentsinsurancecoverage totalinsurancepremiumofthepolicy  \n",
       "0                          100000                              375  \n",
       "1                            8800                              280  \n",
       "2                          100000                              335  \n",
       "3                           21000                              916  \n",
       "4                          100000                             1288  \n",
       "\n",
       "[5 rows x 45 columns]"
      ]
     },
     "execution_count": 56,
     "metadata": {},
     "output_type": "execute_result"
    }
   ],
   "source": [
    "data.head()"
   ]
  },
  {
   "cell_type": "code",
   "execution_count": 57,
   "metadata": {},
   "outputs": [],
   "source": [
    "# need to get county code for king county and filter this giant, 3 gig csv file by it"
   ]
  },
  {
   "cell_type": "code",
   "execution_count": 58,
   "metadata": {},
   "outputs": [
    {
     "data": {
      "text/plain": [
       "Index(['agriculturestructureindicator', 'basefloodelevation',\n",
       "       'basementenclosurecrawlspacetype', 'cancellationdateoffloodpolicy',\n",
       "       'censustract', 'condominiumindicator', 'construction', 'countycode',\n",
       "       'crsdiscount', 'deductibleamountinbuildingcoverage',\n",
       "       'deductibleamountincontentscoverage', 'elevatedbuildingindicator',\n",
       "       'elevationcertificateindicator', 'elevationdifference',\n",
       "       'federalpolicyfee', 'floodzone', 'hfiaasurcharge',\n",
       "       'houseofworshipindicator', 'latitude', 'locationofcontents',\n",
       "       'longitude', 'lowestadjacentgrade', 'lowestfloorelevation',\n",
       "       'nonprofitindicator', 'numberoffloorsininsuredbuilding',\n",
       "       'obstructiontype', 'occupancytype', 'originalconstructiondate',\n",
       "       'originalnbdate', 'policycost', 'policycount', 'policyeffectivedate',\n",
       "       'policyterminationdate', 'policytermindicator',\n",
       "       'postfirmconstructionindicator', 'primaryresidenceindicator',\n",
       "       'propertystate', 'reportedzipcode', 'ratemethod',\n",
       "       'regularemergencyprogramindicator', 'reportedcity',\n",
       "       'smallbusinessindicatorbuilding', 'totalbuildinginsurancecoverage',\n",
       "       'totalcontentsinsurancecoverage', 'totalinsurancepremiumofthepolicy'],\n",
       "      dtype='object')"
      ]
     },
     "execution_count": 58,
     "metadata": {},
     "output_type": "execute_result"
    }
   ],
   "source": [
    "data.columns"
   ]
  },
  {
   "cell_type": "code",
   "execution_count": 59,
   "metadata": {},
   "outputs": [
    {
     "name": "stdout",
     "output_type": "stream",
     "text": [
      "<class 'pandas.core.frame.DataFrame'>\n",
      "RangeIndex: 100 entries, 0 to 99\n",
      "Data columns (total 45 columns):\n",
      " #   Column                              Non-Null Count  Dtype  \n",
      "---  ------                              --------------  -----  \n",
      " 0   agriculturestructureindicator       0 non-null      float64\n",
      " 1   basefloodelevation                  39 non-null     float64\n",
      " 2   basementenclosurecrawlspacetype     100 non-null    int64  \n",
      " 3   cancellationdateoffloodpolicy       13 non-null     object \n",
      " 4   censustract                         100 non-null    int64  \n",
      " 5   condominiumindicator                100 non-null    object \n",
      " 6   construction                        100 non-null    object \n",
      " 7   countycode                          100 non-null    int64  \n",
      " 8   crsdiscount                         100 non-null    float64\n",
      " 9   deductibleamountinbuildingcoverage  98 non-null     float64\n",
      " 10  deductibleamountincontentscoverage  92 non-null     float64\n",
      " 11  elevatedbuildingindicator           100 non-null    object \n",
      " 12  elevationcertificateindicator       31 non-null     float64\n",
      " 13  elevationdifference                 100 non-null    int64  \n",
      " 14  federalpolicyfee                    100 non-null    int64  \n",
      " 15  floodzone                           100 non-null    object \n",
      " 16  hfiaasurcharge                      100 non-null    int64  \n",
      " 17  houseofworshipindicator             0 non-null      float64\n",
      " 18  latitude                            100 non-null    float64\n",
      " 19  locationofcontents                  75 non-null     object \n",
      " 20  longitude                           100 non-null    float64\n",
      " 21  lowestadjacentgrade                 35 non-null     float64\n",
      " 22  lowestfloorelevation                39 non-null     float64\n",
      " 23  nonprofitindicator                  0 non-null      float64\n",
      " 24  numberoffloorsininsuredbuilding     100 non-null    int64  \n",
      " 25  obstructiontype                     23 non-null     float64\n",
      " 26  occupancytype                       100 non-null    int64  \n",
      " 27  originalconstructiondate            100 non-null    object \n",
      " 28  originalnbdate                      100 non-null    object \n",
      " 29  policycost                          100 non-null    int64  \n",
      " 30  policycount                         100 non-null    int64  \n",
      " 31  policyeffectivedate                 100 non-null    object \n",
      " 32  policyterminationdate               100 non-null    object \n",
      " 33  policytermindicator                 100 non-null    int64  \n",
      " 34  postfirmconstructionindicator       100 non-null    object \n",
      " 35  primaryresidenceindicator           100 non-null    object \n",
      " 36  propertystate                       100 non-null    object \n",
      " 37  reportedzipcode                     100 non-null    int64  \n",
      " 38  ratemethod                          100 non-null    int64  \n",
      " 39  regularemergencyprogramindicator    100 non-null    object \n",
      " 40  reportedcity                        100 non-null    object \n",
      " 41  smallbusinessindicatorbuilding      0 non-null      float64\n",
      " 42  totalbuildinginsurancecoverage      100 non-null    int64  \n",
      " 43  totalcontentsinsurancecoverage      100 non-null    int64  \n",
      " 44  totalinsurancepremiumofthepolicy    100 non-null    int64  \n",
      "dtypes: float64(14), int64(16), object(15)\n",
      "memory usage: 35.3+ KB\n"
     ]
    }
   ],
   "source": [
    "data.info()"
   ]
  },
  {
   "cell_type": "code",
   "execution_count": 60,
   "metadata": {},
   "outputs": [],
   "source": [
    "#df = (pd.read_csv('/Users/admin/Downloads/NFIP/nfip-flood-policies.csv')[lambda x: x['countycode']== 53033])"
   ]
  },
  {
   "cell_type": "code",
   "execution_count": 61,
   "metadata": {},
   "outputs": [],
   "source": [
    "import itertools "
   ]
  },
  {
   "cell_type": "code",
   "execution_count": 62,
   "metadata": {},
   "outputs": [
    {
     "ename": "AttributeError",
     "evalue": "__enter__",
     "output_type": "error",
     "traceback": [
      "\u001b[0;31m---------------------------------------------------------------------------\u001b[0m",
      "\u001b[0;31mAttributeError\u001b[0m                            Traceback (most recent call last)",
      "\u001b[0;32m<ipython-input-62-c4dfdaa7d483>\u001b[0m in \u001b[0;36m<module>\u001b[0;34m\u001b[0m\n\u001b[1;32m      1\u001b[0m \u001b[0mchunksize\u001b[0m \u001b[0;34m=\u001b[0m \u001b[0;36m100\u001b[0m\u001b[0;34m\u001b[0m\u001b[0;34m\u001b[0m\u001b[0m\n\u001b[0;32m----> 2\u001b[0;31m \u001b[0;32mwith\u001b[0m \u001b[0mpd\u001b[0m\u001b[0;34m.\u001b[0m\u001b[0mread_csv\u001b[0m\u001b[0;34m(\u001b[0m\u001b[0;34m'/Users/admin/Downloads/NFIP/nfip-flood-policies.csv'\u001b[0m\u001b[0;34m,\u001b[0m \u001b[0mchunksize\u001b[0m\u001b[0;34m=\u001b[0m\u001b[0mchunksize\u001b[0m\u001b[0;34m)\u001b[0m \u001b[0;32mas\u001b[0m \u001b[0mreader\u001b[0m\u001b[0;34m:\u001b[0m\u001b[0;34m\u001b[0m\u001b[0;34m\u001b[0m\u001b[0m\n\u001b[0m\u001b[1;32m      3\u001b[0m    \u001b[0;32mfor\u001b[0m \u001b[0mindex\u001b[0m\u001b[0;34m,\u001b[0m \u001b[0mrow\u001b[0m \u001b[0;32min\u001b[0m \u001b[0mchunk\u001b[0m\u001b[0;34m.\u001b[0m\u001b[0miterrows\u001b[0m\u001b[0;34m(\u001b[0m\u001b[0;34m)\u001b[0m\u001b[0;34m:\u001b[0m\u001b[0;34m\u001b[0m\u001b[0;34m\u001b[0m\u001b[0m\n\u001b[1;32m      4\u001b[0m         \u001b[0mprint\u001b[0m\u001b[0;34m(\u001b[0m\u001b[0mrow\u001b[0m\u001b[0;34m)\u001b[0m\u001b[0;34m\u001b[0m\u001b[0;34m\u001b[0m\u001b[0m\n",
      "\u001b[0;31mAttributeError\u001b[0m: __enter__"
     ]
    }
   ],
   "source": [
    "chunksize = 100\n",
    "with pd.read_csv('/Users/admin/Downloads/NFIP/nfip-flood-policies.csv', chunksize=chunksize) as reader:\n",
    "   for index, row in chunk.iterrows():\n",
    "        print(row)"
   ]
  },
  {
   "cell_type": "code",
   "execution_count": null,
   "metadata": {},
   "outputs": [],
   "source": [
    "# https://pythondata.com/working-large-csv-files-python/\n",
    "from sqlalchemy import create_engine"
   ]
  },
  {
   "cell_type": "code",
   "execution_count": null,
   "metadata": {},
   "outputs": [],
   "source": [
    "file = '/Users/admin/Downloads/NFIP/nfip-flood-policies.csv'"
   ]
  },
  {
   "cell_type": "code",
   "execution_count": null,
   "metadata": {},
   "outputs": [],
   "source": [
    "csv_database = create_engine('sqlite:///csv_database.db')"
   ]
  },
  {
   "cell_type": "code",
   "execution_count": null,
   "metadata": {},
   "outputs": [],
   "source": [
    "chunksize = 100000\n",
    "i = 0\n",
    "j = 1\n",
    "for df in pd.read_csv(file, chunksize=chunksize, iterator=True):\n",
    "      df = df.rename(columns={c: c.replace(' ', '') for c in df.columns}) \n",
    "      df.index += j\n",
    "      i+=1\n",
    "      df.to_sql('table', csv_database, if_exists='append')\n",
    "      j = df.index[-1] + 1"
   ]
  },
  {
   "cell_type": "code",
   "execution_count": null,
   "metadata": {},
   "outputs": [],
   "source": [
    "df = pd.read_sql_query('SELECT * FROM table WHERE countycode = 53033', csv_database)\n"
   ]
  },
  {
   "cell_type": "code",
   "execution_count": null,
   "metadata": {},
   "outputs": [],
   "source": [
    "import itertools as IT\n",
    "\n",
    "\n",
    "def valid(chunks):\n",
    "    for chunk in chunks:\n",
    "        mask = chunk['countycode'] == '53033'\n",
    "        if mask.all():\n",
    "            yield chunk\n",
    "        else:\n",
    "            yield chunk.loc[mask]\n",
    "            break\n",
    "\n"
   ]
  },
  {
   "cell_type": "code",
   "execution_count": null,
   "metadata": {},
   "outputs": [],
   "source": [
    "chunksize = 10 ** 5\n",
    "chunks = pd.read_csv('/Users/admin/Downloads/NFIP/nfip-flood-policies.csv', chunksize=chunksize, header=None, low_memory=False)\n"
   ]
  },
  {
   "cell_type": "code",
   "execution_count": null,
   "metadata": {},
   "outputs": [],
   "source": [
    "chunks.columns"
   ]
  },
  {
   "cell_type": "code",
   "execution_count": null,
   "metadata": {},
   "outputs": [],
   "source": [
    "chunks.loc[chunks['countrycode'] == 53033"
   ]
  },
  {
   "cell_type": "code",
   "execution_count": 66,
   "metadata": {},
   "outputs": [],
   "source": [
    "file = '/Users/admin/Downloads/NFIP/nfip-flood-policies.csv'\n",
    "df_empty = pd.DataFrame()\n",
    "with open(file) as fl:\n",
    "    chunk_iter = pd.read_csv(fl, chunksize = 100000, low_memory=False)\n",
    "    for chunk in chunk_iter:\n",
    "        chunk = chunk[chunk['reportedcity'] == 'SEATTLE']\n",
    "        df_empty = pd.concat([df_empty,chunk])"
   ]
  },
  {
   "cell_type": "code",
   "execution_count": 67,
   "metadata": {},
   "outputs": [
    {
     "data": {
      "text/plain": [
       "(9822, 45)"
      ]
     },
     "execution_count": 67,
     "metadata": {},
     "output_type": "execute_result"
    }
   ],
   "source": [
    "df_empty.shape\n"
   ]
  },
  {
   "cell_type": "code",
   "execution_count": 68,
   "metadata": {},
   "outputs": [
    {
     "name": "stdout",
     "output_type": "stream",
     "text": [
      "<class 'pandas.core.frame.DataFrame'>\n",
      "Int64Index: 9822 entries, 800 to 50375562\n",
      "Data columns (total 45 columns):\n",
      " #   Column                              Non-Null Count  Dtype  \n",
      "---  ------                              --------------  -----  \n",
      " 0   agriculturestructureindicator       2301 non-null   object \n",
      " 1   basefloodelevation                  195 non-null    float64\n",
      " 2   basementenclosurecrawlspacetype     9822 non-null   float64\n",
      " 3   cancellationdateoffloodpolicy       1114 non-null   object \n",
      " 4   censustract                         9789 non-null   float64\n",
      " 5   condominiumindicator                9822 non-null   object \n",
      " 6   construction                        9822 non-null   object \n",
      " 7   countycode                          9822 non-null   float64\n",
      " 8   crsdiscount                         9822 non-null   float64\n",
      " 9   deductibleamountinbuildingcoverage  9522 non-null   object \n",
      " 10  deductibleamountincontentscoverage  9528 non-null   object \n",
      " 11  elevatedbuildingindicator           9822 non-null   object \n",
      " 12  elevationcertificateindicator       2150 non-null   object \n",
      " 13  elevationdifference                 9822 non-null   float64\n",
      " 14  federalpolicyfee                    9822 non-null   float64\n",
      " 15  floodzone                           9821 non-null   object \n",
      " 16  hfiaasurcharge                      9822 non-null   float64\n",
      " 17  houseofworshipindicator             3083 non-null   object \n",
      " 18  latitude                            9789 non-null   float64\n",
      " 19  locationofcontents                  6380 non-null   object \n",
      " 20  longitude                           9789 non-null   float64\n",
      " 21  lowestadjacentgrade                 197 non-null    float64\n",
      " 22  lowestfloorelevation                219 non-null    float64\n",
      " 23  nonprofitindicator                  3094 non-null   object \n",
      " 24  numberoffloorsininsuredbuilding     9821 non-null   float64\n",
      " 25  obstructiontype                     791 non-null    object \n",
      " 26  occupancytype                       9822 non-null   float64\n",
      " 27  originalconstructiondate            9821 non-null   object \n",
      " 28  originalnbdate                      9822 non-null   object \n",
      " 29  policycost                          9822 non-null   float64\n",
      " 30  policycount                         9822 non-null   float64\n",
      " 31  policyeffectivedate                 9822 non-null   object \n",
      " 32  policyterminationdate               9822 non-null   object \n",
      " 33  policytermindicator                 9822 non-null   float64\n",
      " 34  postfirmconstructionindicator       9821 non-null   object \n",
      " 35  primaryresidenceindicator           9822 non-null   object \n",
      " 36  propertystate                       9822 non-null   object \n",
      " 37  reportedzipcode                     9822 non-null   object \n",
      " 38  ratemethod                          9822 non-null   object \n",
      " 39  regularemergencyprogramindicator    9822 non-null   object \n",
      " 40  reportedcity                        9822 non-null   object \n",
      " 41  smallbusinessindicatorbuilding      3255 non-null   object \n",
      " 42  totalbuildinginsurancecoverage      9822 non-null   float64\n",
      " 43  totalcontentsinsurancecoverage      9822 non-null   float64\n",
      " 44  totalinsurancepremiumofthepolicy    9822 non-null   float64\n",
      "dtypes: float64(20), object(25)\n",
      "memory usage: 3.4+ MB\n"
     ]
    }
   ],
   "source": [
    "df_empty.info()"
   ]
  },
  {
   "cell_type": "code",
   "execution_count": 45,
   "metadata": {},
   "outputs": [],
   "source": [
    "df_empty.dropna(inplace=True)"
   ]
  },
  {
   "cell_type": "code",
   "execution_count": 173,
   "metadata": {},
   "outputs": [],
   "source": [
    "flood_data = df_empty[['reportedzipcode', 'reportedcity', 'countycode', 'basefloodelevation', 'elevatedbuildingindicator',\n",
    "                      'lowestfloorelevation', 'ratemethod', 'occupancytype', 'elevationdifference', 'floodzone',\n",
    "                      'totalinsurancepremiumofthepolicy', 'occupancytype', 'latitude', 'longitude']]\n"
   ]
  },
  {
   "cell_type": "code",
   "execution_count": 174,
   "metadata": {},
   "outputs": [
    {
     "data": {
      "text/html": [
       "<div>\n",
       "<style scoped>\n",
       "    .dataframe tbody tr th:only-of-type {\n",
       "        vertical-align: middle;\n",
       "    }\n",
       "\n",
       "    .dataframe tbody tr th {\n",
       "        vertical-align: top;\n",
       "    }\n",
       "\n",
       "    .dataframe thead th {\n",
       "        text-align: right;\n",
       "    }\n",
       "</style>\n",
       "<table border=\"1\" class=\"dataframe\">\n",
       "  <thead>\n",
       "    <tr style=\"text-align: right;\">\n",
       "      <th></th>\n",
       "      <th>countycode</th>\n",
       "      <th>basefloodelevation</th>\n",
       "      <th>lowestfloorelevation</th>\n",
       "      <th>occupancytype</th>\n",
       "      <th>elevationdifference</th>\n",
       "      <th>totalinsurancepremiumofthepolicy</th>\n",
       "      <th>occupancytype</th>\n",
       "      <th>latitude</th>\n",
       "      <th>longitude</th>\n",
       "    </tr>\n",
       "  </thead>\n",
       "  <tbody>\n",
       "    <tr>\n",
       "      <th>count</th>\n",
       "      <td>109936.0</td>\n",
       "      <td>19583.000000</td>\n",
       "      <td>20096.000000</td>\n",
       "      <td>109936.000000</td>\n",
       "      <td>109936.000000</td>\n",
       "      <td>109936.000000</td>\n",
       "      <td>109936.000000</td>\n",
       "      <td>109641.000000</td>\n",
       "      <td>109641.000000</td>\n",
       "    </tr>\n",
       "    <tr>\n",
       "      <th>mean</th>\n",
       "      <td>53033.0</td>\n",
       "      <td>186.875688</td>\n",
       "      <td>378.966352</td>\n",
       "      <td>1.787940</td>\n",
       "      <td>816.153917</td>\n",
       "      <td>781.468463</td>\n",
       "      <td>1.787940</td>\n",
       "      <td>47.472246</td>\n",
       "      <td>-122.120553</td>\n",
       "    </tr>\n",
       "    <tr>\n",
       "      <th>std</th>\n",
       "      <td>0.0</td>\n",
       "      <td>222.558002</td>\n",
       "      <td>1375.190741</td>\n",
       "      <td>1.368911</td>\n",
       "      <td>391.783791</td>\n",
       "      <td>1021.250008</td>\n",
       "      <td>1.368911</td>\n",
       "      <td>0.135176</td>\n",
       "      <td>0.208210</td>\n",
       "    </tr>\n",
       "    <tr>\n",
       "      <th>min</th>\n",
       "      <td>53033.0</td>\n",
       "      <td>-2.000000</td>\n",
       "      <td>-17.100000</td>\n",
       "      <td>1.000000</td>\n",
       "      <td>-407.000000</td>\n",
       "      <td>11.000000</td>\n",
       "      <td>1.000000</td>\n",
       "      <td>47.200000</td>\n",
       "      <td>-122.500000</td>\n",
       "    </tr>\n",
       "    <tr>\n",
       "      <th>25%</th>\n",
       "      <td>53033.0</td>\n",
       "      <td>29.700000</td>\n",
       "      <td>30.300000</td>\n",
       "      <td>1.000000</td>\n",
       "      <td>999.000000</td>\n",
       "      <td>313.000000</td>\n",
       "      <td>1.000000</td>\n",
       "      <td>47.400000</td>\n",
       "      <td>-122.300000</td>\n",
       "    </tr>\n",
       "    <tr>\n",
       "      <th>50%</th>\n",
       "      <td>53033.0</td>\n",
       "      <td>45.000000</td>\n",
       "      <td>60.300000</td>\n",
       "      <td>1.000000</td>\n",
       "      <td>999.000000</td>\n",
       "      <td>385.000000</td>\n",
       "      <td>1.000000</td>\n",
       "      <td>47.500000</td>\n",
       "      <td>-122.200000</td>\n",
       "    </tr>\n",
       "    <tr>\n",
       "      <th>75%</th>\n",
       "      <td>53033.0</td>\n",
       "      <td>422.400000</td>\n",
       "      <td>424.700000</td>\n",
       "      <td>2.000000</td>\n",
       "      <td>999.000000</td>\n",
       "      <td>997.000000</td>\n",
       "      <td>2.000000</td>\n",
       "      <td>47.500000</td>\n",
       "      <td>-122.000000</td>\n",
       "    </tr>\n",
       "    <tr>\n",
       "      <th>max</th>\n",
       "      <td>53033.0</td>\n",
       "      <td>5171.800000</td>\n",
       "      <td>9996.000000</td>\n",
       "      <td>6.000000</td>\n",
       "      <td>9990.000000</td>\n",
       "      <td>45695.000000</td>\n",
       "      <td>6.000000</td>\n",
       "      <td>47.800000</td>\n",
       "      <td>-121.300000</td>\n",
       "    </tr>\n",
       "  </tbody>\n",
       "</table>\n",
       "</div>"
      ],
      "text/plain": [
       "       countycode  basefloodelevation  lowestfloorelevation  occupancytype  \\\n",
       "count    109936.0        19583.000000          20096.000000  109936.000000   \n",
       "mean      53033.0          186.875688            378.966352       1.787940   \n",
       "std           0.0          222.558002           1375.190741       1.368911   \n",
       "min       53033.0           -2.000000            -17.100000       1.000000   \n",
       "25%       53033.0           29.700000             30.300000       1.000000   \n",
       "50%       53033.0           45.000000             60.300000       1.000000   \n",
       "75%       53033.0          422.400000            424.700000       2.000000   \n",
       "max       53033.0         5171.800000           9996.000000       6.000000   \n",
       "\n",
       "       elevationdifference  totalinsurancepremiumofthepolicy  occupancytype  \\\n",
       "count        109936.000000                     109936.000000  109936.000000   \n",
       "mean            816.153917                        781.468463       1.787940   \n",
       "std             391.783791                       1021.250008       1.368911   \n",
       "min            -407.000000                         11.000000       1.000000   \n",
       "25%             999.000000                        313.000000       1.000000   \n",
       "50%             999.000000                        385.000000       1.000000   \n",
       "75%             999.000000                        997.000000       2.000000   \n",
       "max            9990.000000                      45695.000000       6.000000   \n",
       "\n",
       "            latitude      longitude  \n",
       "count  109641.000000  109641.000000  \n",
       "mean       47.472246    -122.120553  \n",
       "std         0.135176       0.208210  \n",
       "min        47.200000    -122.500000  \n",
       "25%        47.400000    -122.300000  \n",
       "50%        47.500000    -122.200000  \n",
       "75%        47.500000    -122.000000  \n",
       "max        47.800000    -121.300000  "
      ]
     },
     "execution_count": 174,
     "metadata": {},
     "output_type": "execute_result"
    }
   ],
   "source": [
    "flood_data.describe()"
   ]
  },
  {
   "cell_type": "code",
   "execution_count": 175,
   "metadata": {},
   "outputs": [
    {
     "data": {
      "text/plain": [
       "(109936, 14)"
      ]
     },
     "execution_count": 175,
     "metadata": {},
     "output_type": "execute_result"
    }
   ],
   "source": [
    "flood_data.shape"
   ]
  },
  {
   "cell_type": "code",
   "execution_count": 176,
   "metadata": {},
   "outputs": [
    {
     "name": "stdout",
     "output_type": "stream",
     "text": [
      "<class 'pandas.core.frame.DataFrame'>\n",
      "Int64Index: 109936 entries, 147 to 50406466\n",
      "Data columns (total 14 columns):\n",
      " #   Column                            Non-Null Count   Dtype  \n",
      "---  ------                            --------------   -----  \n",
      " 0   reportedzipcode                   109936 non-null  object \n",
      " 1   reportedcity                      109936 non-null  object \n",
      " 2   countycode                        109936 non-null  float64\n",
      " 3   basefloodelevation                19583 non-null   float64\n",
      " 4   elevatedbuildingindicator         109934 non-null  object \n",
      " 5   lowestfloorelevation              20096 non-null   float64\n",
      " 6   ratemethod                        109919 non-null  object \n",
      " 7   occupancytype                     109936 non-null  float64\n",
      " 8   elevationdifference               109936 non-null  float64\n",
      " 9   floodzone                         109878 non-null  object \n",
      " 10  totalinsurancepremiumofthepolicy  109936 non-null  float64\n",
      " 11  occupancytype                     109936 non-null  float64\n",
      " 12  latitude                          109641 non-null  float64\n",
      " 13  longitude                         109641 non-null  float64\n",
      "dtypes: float64(9), object(5)\n",
      "memory usage: 17.6+ MB\n"
     ]
    }
   ],
   "source": [
    "flood_data.info()"
   ]
  },
  {
   "cell_type": "code",
   "execution_count": 177,
   "metadata": {
    "scrolled": true
   },
   "outputs": [
    {
     "data": {
      "text/html": [
       "<div>\n",
       "<style scoped>\n",
       "    .dataframe tbody tr th:only-of-type {\n",
       "        vertical-align: middle;\n",
       "    }\n",
       "\n",
       "    .dataframe tbody tr th {\n",
       "        vertical-align: top;\n",
       "    }\n",
       "\n",
       "    .dataframe thead th {\n",
       "        text-align: right;\n",
       "    }\n",
       "</style>\n",
       "<table border=\"1\" class=\"dataframe\">\n",
       "  <thead>\n",
       "    <tr style=\"text-align: right;\">\n",
       "      <th></th>\n",
       "      <th>reportedzipcode</th>\n",
       "      <th>reportedcity</th>\n",
       "      <th>countycode</th>\n",
       "      <th>elevatedbuildingindicator</th>\n",
       "      <th>lowestfloorelevation</th>\n",
       "      <th>ratemethod</th>\n",
       "      <th>occupancytype</th>\n",
       "      <th>elevationdifference</th>\n",
       "      <th>floodzone</th>\n",
       "      <th>totalinsurancepremiumofthepolicy</th>\n",
       "      <th>occupancytype</th>\n",
       "      <th>latitude</th>\n",
       "      <th>longitude</th>\n",
       "    </tr>\n",
       "  </thead>\n",
       "  <tbody>\n",
       "    <tr>\n",
       "      <th>147</th>\n",
       "      <td>98055</td>\n",
       "      <td>RENTON</td>\n",
       "      <td>53033.0</td>\n",
       "      <td>N</td>\n",
       "      <td>NaN</td>\n",
       "      <td>7</td>\n",
       "      <td>1.0</td>\n",
       "      <td>999.0</td>\n",
       "      <td>X</td>\n",
       "      <td>335.0</td>\n",
       "      <td>1.0</td>\n",
       "      <td>47.5</td>\n",
       "      <td>-122.2</td>\n",
       "    </tr>\n",
       "    <tr>\n",
       "      <th>216</th>\n",
       "      <td>98002</td>\n",
       "      <td>AUBURN</td>\n",
       "      <td>53033.0</td>\n",
       "      <td>N</td>\n",
       "      <td>NaN</td>\n",
       "      <td>7</td>\n",
       "      <td>2.0</td>\n",
       "      <td>999.0</td>\n",
       "      <td>X</td>\n",
       "      <td>375.0</td>\n",
       "      <td>2.0</td>\n",
       "      <td>47.3</td>\n",
       "      <td>-122.2</td>\n",
       "    </tr>\n",
       "    <tr>\n",
       "      <th>483</th>\n",
       "      <td>98002</td>\n",
       "      <td>AUBURN</td>\n",
       "      <td>53033.0</td>\n",
       "      <td>N</td>\n",
       "      <td>NaN</td>\n",
       "      <td>7</td>\n",
       "      <td>1.0</td>\n",
       "      <td>999.0</td>\n",
       "      <td>X</td>\n",
       "      <td>335.0</td>\n",
       "      <td>1.0</td>\n",
       "      <td>47.4</td>\n",
       "      <td>-122.2</td>\n",
       "    </tr>\n",
       "    <tr>\n",
       "      <th>800</th>\n",
       "      <td>98133</td>\n",
       "      <td>SEATTLE</td>\n",
       "      <td>53033.0</td>\n",
       "      <td>N</td>\n",
       "      <td>NaN</td>\n",
       "      <td>1</td>\n",
       "      <td>4.0</td>\n",
       "      <td>999.0</td>\n",
       "      <td>X</td>\n",
       "      <td>1818.0</td>\n",
       "      <td>4.0</td>\n",
       "      <td>47.7</td>\n",
       "      <td>-122.3</td>\n",
       "    </tr>\n",
       "    <tr>\n",
       "      <th>1261</th>\n",
       "      <td>98001</td>\n",
       "      <td>ALGONA</td>\n",
       "      <td>53033.0</td>\n",
       "      <td>N</td>\n",
       "      <td>NaN</td>\n",
       "      <td>7</td>\n",
       "      <td>2.0</td>\n",
       "      <td>999.0</td>\n",
       "      <td>X</td>\n",
       "      <td>335.0</td>\n",
       "      <td>2.0</td>\n",
       "      <td>47.3</td>\n",
       "      <td>-122.3</td>\n",
       "    </tr>\n",
       "    <tr>\n",
       "      <th>...</th>\n",
       "      <td>...</td>\n",
       "      <td>...</td>\n",
       "      <td>...</td>\n",
       "      <td>...</td>\n",
       "      <td>...</td>\n",
       "      <td>...</td>\n",
       "      <td>...</td>\n",
       "      <td>...</td>\n",
       "      <td>...</td>\n",
       "      <td>...</td>\n",
       "      <td>...</td>\n",
       "      <td>...</td>\n",
       "      <td>...</td>\n",
       "    </tr>\n",
       "    <tr>\n",
       "      <th>50403989</th>\n",
       "      <td>98092</td>\n",
       "      <td>AUBURN</td>\n",
       "      <td>53033.0</td>\n",
       "      <td>N</td>\n",
       "      <td>NaN</td>\n",
       "      <td>7</td>\n",
       "      <td>1.0</td>\n",
       "      <td>999.0</td>\n",
       "      <td>X</td>\n",
       "      <td>374.0</td>\n",
       "      <td>1.0</td>\n",
       "      <td>47.3</td>\n",
       "      <td>-122.1</td>\n",
       "    </tr>\n",
       "    <tr>\n",
       "      <th>50404560</th>\n",
       "      <td>98070</td>\n",
       "      <td>VASHON</td>\n",
       "      <td>53033.0</td>\n",
       "      <td>Y</td>\n",
       "      <td>20.3</td>\n",
       "      <td>B</td>\n",
       "      <td>1.0</td>\n",
       "      <td>12.0</td>\n",
       "      <td>A</td>\n",
       "      <td>330.0</td>\n",
       "      <td>1.0</td>\n",
       "      <td>47.5</td>\n",
       "      <td>-122.4</td>\n",
       "    </tr>\n",
       "    <tr>\n",
       "      <th>50404837</th>\n",
       "      <td>98075</td>\n",
       "      <td>SAMMAMISH</td>\n",
       "      <td>53033.0</td>\n",
       "      <td>Y</td>\n",
       "      <td>34.6</td>\n",
       "      <td>1</td>\n",
       "      <td>1.0</td>\n",
       "      <td>1.0</td>\n",
       "      <td>AE</td>\n",
       "      <td>205.0</td>\n",
       "      <td>1.0</td>\n",
       "      <td>47.6</td>\n",
       "      <td>-122.1</td>\n",
       "    </tr>\n",
       "    <tr>\n",
       "      <th>50405431</th>\n",
       "      <td>98198</td>\n",
       "      <td>DES MOINES</td>\n",
       "      <td>53033.0</td>\n",
       "      <td>N</td>\n",
       "      <td>NaN</td>\n",
       "      <td>1</td>\n",
       "      <td>1.0</td>\n",
       "      <td>999.0</td>\n",
       "      <td>A</td>\n",
       "      <td>2406.0</td>\n",
       "      <td>1.0</td>\n",
       "      <td>47.4</td>\n",
       "      <td>-122.3</td>\n",
       "    </tr>\n",
       "    <tr>\n",
       "      <th>50406466</th>\n",
       "      <td>98198</td>\n",
       "      <td>DES MOINES</td>\n",
       "      <td>53033.0</td>\n",
       "      <td>Y</td>\n",
       "      <td>NaN</td>\n",
       "      <td>1</td>\n",
       "      <td>6.0</td>\n",
       "      <td>999.0</td>\n",
       "      <td>A</td>\n",
       "      <td>31373.0</td>\n",
       "      <td>6.0</td>\n",
       "      <td>47.3</td>\n",
       "      <td>-122.3</td>\n",
       "    </tr>\n",
       "  </tbody>\n",
       "</table>\n",
       "<p>109936 rows × 13 columns</p>\n",
       "</div>"
      ],
      "text/plain": [
       "         reportedzipcode reportedcity  countycode elevatedbuildingindicator  \\\n",
       "147                98055       RENTON     53033.0                         N   \n",
       "216                98002       AUBURN     53033.0                         N   \n",
       "483                98002       AUBURN     53033.0                         N   \n",
       "800                98133      SEATTLE     53033.0                         N   \n",
       "1261               98001       ALGONA     53033.0                         N   \n",
       "...                  ...          ...         ...                       ...   \n",
       "50403989           98092       AUBURN     53033.0                         N   \n",
       "50404560           98070       VASHON     53033.0                         Y   \n",
       "50404837           98075    SAMMAMISH     53033.0                         Y   \n",
       "50405431           98198   DES MOINES     53033.0                         N   \n",
       "50406466           98198   DES MOINES     53033.0                         Y   \n",
       "\n",
       "          lowestfloorelevation ratemethod  occupancytype  elevationdifference  \\\n",
       "147                        NaN          7            1.0                999.0   \n",
       "216                        NaN          7            2.0                999.0   \n",
       "483                        NaN          7            1.0                999.0   \n",
       "800                        NaN          1            4.0                999.0   \n",
       "1261                       NaN          7            2.0                999.0   \n",
       "...                        ...        ...            ...                  ...   \n",
       "50403989                   NaN          7            1.0                999.0   \n",
       "50404560                  20.3          B            1.0                 12.0   \n",
       "50404837                  34.6          1            1.0                  1.0   \n",
       "50405431                   NaN          1            1.0                999.0   \n",
       "50406466                   NaN          1            6.0                999.0   \n",
       "\n",
       "         floodzone  totalinsurancepremiumofthepolicy  occupancytype  latitude  \\\n",
       "147              X                             335.0            1.0      47.5   \n",
       "216              X                             375.0            2.0      47.3   \n",
       "483              X                             335.0            1.0      47.4   \n",
       "800              X                            1818.0            4.0      47.7   \n",
       "1261             X                             335.0            2.0      47.3   \n",
       "...            ...                               ...            ...       ...   \n",
       "50403989         X                             374.0            1.0      47.3   \n",
       "50404560         A                             330.0            1.0      47.5   \n",
       "50404837        AE                             205.0            1.0      47.6   \n",
       "50405431         A                            2406.0            1.0      47.4   \n",
       "50406466         A                           31373.0            6.0      47.3   \n",
       "\n",
       "          longitude  \n",
       "147          -122.2  \n",
       "216          -122.2  \n",
       "483          -122.2  \n",
       "800          -122.3  \n",
       "1261         -122.3  \n",
       "...             ...  \n",
       "50403989     -122.1  \n",
       "50404560     -122.4  \n",
       "50404837     -122.1  \n",
       "50405431     -122.3  \n",
       "50406466     -122.3  \n",
       "\n",
       "[109936 rows x 13 columns]"
      ]
     },
     "execution_count": 177,
     "metadata": {},
     "output_type": "execute_result"
    }
   ],
   "source": [
    "flood_data.drop(labels='basefloodelevation', axis=1)"
   ]
  },
  {
   "cell_type": "code",
   "execution_count": 178,
   "metadata": {},
   "outputs": [],
   "source": [
    "flood_data.drop(['lowestfloorelevation','basefloodelevation'], axis=1, inplace=True)"
   ]
  },
  {
   "cell_type": "code",
   "execution_count": 179,
   "metadata": {},
   "outputs": [
    {
     "data": {
      "text/plain": [
       "(109936, 12)"
      ]
     },
     "execution_count": 179,
     "metadata": {},
     "output_type": "execute_result"
    }
   ],
   "source": [
    "flood_data.shape\n"
   ]
  },
  {
   "cell_type": "code",
   "execution_count": 181,
   "metadata": {},
   "outputs": [],
   "source": [
    "flood_data.reportedzipcode = flood_data.reportedzipcode.astype(int)"
   ]
  },
  {
   "cell_type": "code",
   "execution_count": 183,
   "metadata": {},
   "outputs": [],
   "source": [
    "flood_data.countycode = flood_data.countycode.astype(int)"
   ]
  },
  {
   "cell_type": "code",
   "execution_count": 184,
   "metadata": {},
   "outputs": [
    {
     "data": {
      "text/html": [
       "<div>\n",
       "<style scoped>\n",
       "    .dataframe tbody tr th:only-of-type {\n",
       "        vertical-align: middle;\n",
       "    }\n",
       "\n",
       "    .dataframe tbody tr th {\n",
       "        vertical-align: top;\n",
       "    }\n",
       "\n",
       "    .dataframe thead th {\n",
       "        text-align: right;\n",
       "    }\n",
       "</style>\n",
       "<table border=\"1\" class=\"dataframe\">\n",
       "  <thead>\n",
       "    <tr style=\"text-align: right;\">\n",
       "      <th></th>\n",
       "      <th>reportedzipcode</th>\n",
       "      <th>reportedcity</th>\n",
       "      <th>countycode</th>\n",
       "      <th>elevatedbuildingindicator</th>\n",
       "      <th>ratemethod</th>\n",
       "      <th>occupancytype</th>\n",
       "      <th>elevationdifference</th>\n",
       "      <th>floodzone</th>\n",
       "      <th>totalinsurancepremiumofthepolicy</th>\n",
       "      <th>occupancytype</th>\n",
       "      <th>latitude</th>\n",
       "      <th>longitude</th>\n",
       "    </tr>\n",
       "  </thead>\n",
       "  <tbody>\n",
       "    <tr>\n",
       "      <th>147</th>\n",
       "      <td>98055</td>\n",
       "      <td>RENTON</td>\n",
       "      <td>53033</td>\n",
       "      <td>N</td>\n",
       "      <td>7</td>\n",
       "      <td>1.0</td>\n",
       "      <td>999.0</td>\n",
       "      <td>X</td>\n",
       "      <td>335.0</td>\n",
       "      <td>1.0</td>\n",
       "      <td>47.5</td>\n",
       "      <td>-122.2</td>\n",
       "    </tr>\n",
       "    <tr>\n",
       "      <th>216</th>\n",
       "      <td>98002</td>\n",
       "      <td>AUBURN</td>\n",
       "      <td>53033</td>\n",
       "      <td>N</td>\n",
       "      <td>7</td>\n",
       "      <td>2.0</td>\n",
       "      <td>999.0</td>\n",
       "      <td>X</td>\n",
       "      <td>375.0</td>\n",
       "      <td>2.0</td>\n",
       "      <td>47.3</td>\n",
       "      <td>-122.2</td>\n",
       "    </tr>\n",
       "    <tr>\n",
       "      <th>483</th>\n",
       "      <td>98002</td>\n",
       "      <td>AUBURN</td>\n",
       "      <td>53033</td>\n",
       "      <td>N</td>\n",
       "      <td>7</td>\n",
       "      <td>1.0</td>\n",
       "      <td>999.0</td>\n",
       "      <td>X</td>\n",
       "      <td>335.0</td>\n",
       "      <td>1.0</td>\n",
       "      <td>47.4</td>\n",
       "      <td>-122.2</td>\n",
       "    </tr>\n",
       "    <tr>\n",
       "      <th>800</th>\n",
       "      <td>98133</td>\n",
       "      <td>SEATTLE</td>\n",
       "      <td>53033</td>\n",
       "      <td>N</td>\n",
       "      <td>1</td>\n",
       "      <td>4.0</td>\n",
       "      <td>999.0</td>\n",
       "      <td>X</td>\n",
       "      <td>1818.0</td>\n",
       "      <td>4.0</td>\n",
       "      <td>47.7</td>\n",
       "      <td>-122.3</td>\n",
       "    </tr>\n",
       "    <tr>\n",
       "      <th>1261</th>\n",
       "      <td>98001</td>\n",
       "      <td>ALGONA</td>\n",
       "      <td>53033</td>\n",
       "      <td>N</td>\n",
       "      <td>7</td>\n",
       "      <td>2.0</td>\n",
       "      <td>999.0</td>\n",
       "      <td>X</td>\n",
       "      <td>335.0</td>\n",
       "      <td>2.0</td>\n",
       "      <td>47.3</td>\n",
       "      <td>-122.3</td>\n",
       "    </tr>\n",
       "  </tbody>\n",
       "</table>\n",
       "</div>"
      ],
      "text/plain": [
       "      reportedzipcode reportedcity  countycode elevatedbuildingindicator  \\\n",
       "147             98055       RENTON       53033                         N   \n",
       "216             98002       AUBURN       53033                         N   \n",
       "483             98002       AUBURN       53033                         N   \n",
       "800             98133      SEATTLE       53033                         N   \n",
       "1261            98001       ALGONA       53033                         N   \n",
       "\n",
       "     ratemethod  occupancytype  elevationdifference floodzone  \\\n",
       "147           7            1.0                999.0         X   \n",
       "216           7            2.0                999.0         X   \n",
       "483           7            1.0                999.0         X   \n",
       "800           1            4.0                999.0         X   \n",
       "1261          7            2.0                999.0         X   \n",
       "\n",
       "      totalinsurancepremiumofthepolicy  occupancytype  latitude  longitude  \n",
       "147                              335.0            1.0      47.5     -122.2  \n",
       "216                              375.0            2.0      47.3     -122.2  \n",
       "483                              335.0            1.0      47.4     -122.2  \n",
       "800                             1818.0            4.0      47.7     -122.3  \n",
       "1261                             335.0            2.0      47.3     -122.3  "
      ]
     },
     "execution_count": 184,
     "metadata": {},
     "output_type": "execute_result"
    }
   ],
   "source": [
    "flood_data.head() "
   ]
  },
  {
   "cell_type": "code",
   "execution_count": null,
   "metadata": {},
   "outputs": [],
   "source": [
    "# need to make sure zipcodes align with floodzones, more or less. also need to convert strings to integers for zipcodes"
   ]
  },
  {
   "cell_type": "code",
   "execution_count": 185,
   "metadata": {},
   "outputs": [
    {
     "data": {
      "text/plain": [
       "98"
      ]
     },
     "execution_count": 185,
     "metadata": {},
     "output_type": "execute_result"
    }
   ],
   "source": [
    "flood_data.reportedzipcode.nunique()"
   ]
  },
  {
   "cell_type": "code",
   "execution_count": 186,
   "metadata": {},
   "outputs": [
    {
     "data": {
      "text/plain": [
       "53033    109936\n",
       "Name: countycode, dtype: int64"
      ]
     },
     "execution_count": 186,
     "metadata": {},
     "output_type": "execute_result"
    }
   ],
   "source": [
    "flood_data['countycode'].value_counts()"
   ]
  },
  {
   "cell_type": "code",
   "execution_count": 187,
   "metadata": {},
   "outputs": [
    {
     "data": {
      "text/plain": [
       "reportedzipcode\n",
       "8188     1\n",
       "10000    1\n",
       "20005    1\n",
       "37203    1\n",
       "84119    1\n",
       "        ..\n",
       "98201    1\n",
       "98224    6\n",
       "98251    1\n",
       "98288    5\n",
       "98302    1\n",
       "Name: floodzone, Length: 98, dtype: int64"
      ]
     },
     "execution_count": 187,
     "metadata": {},
     "output_type": "execute_result"
    }
   ],
   "source": [
    "flood_data.groupby('reportedzipcode')['floodzone'].nunique()"
   ]
  },
  {
   "cell_type": "code",
   "execution_count": 188,
   "metadata": {},
   "outputs": [
    {
     "data": {
      "text/plain": [
       "X      67632\n",
       "AE     29416\n",
       "A       4753\n",
       "AO      3130\n",
       "AHB     1220\n",
       "AOB     1046\n",
       "AH      1045\n",
       "C        581\n",
       "D        254\n",
       "A05      229\n",
       "A11      176\n",
       "B        159\n",
       "A04       60\n",
       "A12       51\n",
       "A06       43\n",
       "VE        32\n",
       "A07       15\n",
       "A09       14\n",
       "A01       10\n",
       "A03        7\n",
       "A02        3\n",
       "A10        2\n",
       "Name: floodzone, dtype: int64"
      ]
     },
     "execution_count": 188,
     "metadata": {},
     "output_type": "execute_result"
    }
   ],
   "source": [
    "flood_data['floodzone'].value_counts()"
   ]
  },
  {
   "cell_type": "code",
   "execution_count": 46,
   "metadata": {},
   "outputs": [],
   "source": [
    "# starting over with a new dataset using the county code as a float this time "
   ]
  },
  {
   "cell_type": "code",
   "execution_count": 204,
   "metadata": {
    "scrolled": false
   },
   "outputs": [],
   "source": [
    "file = '/Users/admin/Downloads/NFIP/nfip-flood-policies.csv'\n",
    "df_empty = pd.DataFrame()\n",
    "with open(file) as fl:\n",
    "    chunk_iter = pd.read_csv(fl, chunksize = 100000, low_memory=False)\n",
    "    for chunk in chunk_iter:\n",
    "        chunk = chunk[chunk['countycode'] == 53033.0]\n",
    "        df_empty = pd.concat([df_empty,chunk])\n",
    "\n"
   ]
  },
  {
   "cell_type": "code",
   "execution_count": 205,
   "metadata": {},
   "outputs": [],
   "source": [
    "flood_data = df_empty[['countycode', 'deductibleamountinbuildingcoverage', 'elevatedbuildingindicator', 'elevationdifference', 'floodzone', 'reportedzipcode', 'totalinsurancepremiumofthepolicy']].copy()"
   ]
  },
  {
   "cell_type": "code",
   "execution_count": 206,
   "metadata": {},
   "outputs": [
    {
     "name": "stdout",
     "output_type": "stream",
     "text": [
      "<class 'pandas.core.frame.DataFrame'>\n",
      "Int64Index: 109936 entries, 147 to 50406466\n",
      "Data columns (total 45 columns):\n",
      " #   Column                              Non-Null Count   Dtype  \n",
      "---  ------                              --------------   -----  \n",
      " 0   agriculturestructureindicator       17453 non-null   object \n",
      " 1   basefloodelevation                  19583 non-null   float64\n",
      " 2   basementenclosurecrawlspacetype     109936 non-null  float64\n",
      " 3   cancellationdateoffloodpolicy       11480 non-null   object \n",
      " 4   censustract                         109641 non-null  float64\n",
      " 5   condominiumindicator                109936 non-null  object \n",
      " 6   construction                        109936 non-null  object \n",
      " 7   countycode                          109936 non-null  float64\n",
      " 8   crsdiscount                         109936 non-null  float64\n",
      " 9   deductibleamountinbuildingcoverage  103272 non-null  object \n",
      " 10  deductibleamountincontentscoverage  99339 non-null   object \n",
      " 11  elevatedbuildingindicator           109934 non-null  object \n",
      " 12  elevationcertificateindicator       32588 non-null   object \n",
      " 13  elevationdifference                 109936 non-null  float64\n",
      " 14  federalpolicyfee                    109936 non-null  float64\n",
      " 15  floodzone                           109878 non-null  object \n",
      " 16  hfiaasurcharge                      109936 non-null  float64\n",
      " 17  houseofworshipindicator             25466 non-null   object \n",
      " 18  latitude                            109641 non-null  float64\n",
      " 19  locationofcontents                  75383 non-null   object \n",
      " 20  longitude                           109641 non-null  float64\n",
      " 21  lowestadjacentgrade                 18651 non-null   float64\n",
      " 22  lowestfloorelevation                20096 non-null   float64\n",
      " 23  nonprofitindicator                  25397 non-null   object \n",
      " 24  numberoffloorsininsuredbuilding     109878 non-null  float64\n",
      " 25  obstructiontype                     23873 non-null   object \n",
      " 26  occupancytype                       109936 non-null  float64\n",
      " 27  originalconstructiondate            109868 non-null  object \n",
      " 28  originalnbdate                      109936 non-null  object \n",
      " 29  policycost                          109936 non-null  float64\n",
      " 30  policycount                         109936 non-null  float64\n",
      " 31  policyeffectivedate                 109936 non-null  object \n",
      " 32  policyterminationdate               109936 non-null  object \n",
      " 33  policytermindicator                 109936 non-null  float64\n",
      " 34  postfirmconstructionindicator       109868 non-null  object \n",
      " 35  primaryresidenceindicator           109936 non-null  object \n",
      " 36  propertystate                       109936 non-null  object \n",
      " 37  reportedzipcode                     109936 non-null  object \n",
      " 38  ratemethod                          109919 non-null  object \n",
      " 39  regularemergencyprogramindicator    109936 non-null  object \n",
      " 40  reportedcity                        109936 non-null  object \n",
      " 41  smallbusinessindicatorbuilding      27350 non-null   object \n",
      " 42  totalbuildinginsurancecoverage      109936 non-null  float64\n",
      " 43  totalcontentsinsurancecoverage      109936 non-null  float64\n",
      " 44  totalinsurancepremiumofthepolicy    109936 non-null  float64\n",
      "dtypes: float64(20), object(25)\n",
      "memory usage: 38.6+ MB\n"
     ]
    }
   ],
   "source": [
    "df_empty.info()"
   ]
  },
  {
   "cell_type": "code",
   "execution_count": 207,
   "metadata": {},
   "outputs": [],
   "source": [
    "# what else? i need to figure out a way to match this data, after further cleaning it by eliminating or transforming bad/irrelevant data"
   ]
  },
  {
   "cell_type": "code",
   "execution_count": 208,
   "metadata": {},
   "outputs": [],
   "source": [
    "# clean zip codes. should all be 5 digits and start with 9\n",
    "\n",
    "# flood_data = flood_data['reportedzipcode'].between(90000, 99999) "
   ]
  },
  {
   "cell_type": "code",
   "execution_count": 210,
   "metadata": {},
   "outputs": [],
   "source": [
    "flood_data.reportedzipcode = flood_data.reportedzipcode.astype(int)"
   ]
  },
  {
   "cell_type": "code",
   "execution_count": 211,
   "metadata": {},
   "outputs": [],
   "source": [
    "flood_data.countycode = flood_data.countycode.astype(int)"
   ]
  },
  {
   "cell_type": "code",
   "execution_count": 212,
   "metadata": {},
   "outputs": [],
   "source": [
    "flood_data = flood_data[(flood_data['reportedzipcode'] >= 90000) & (flood_data['reportedzipcode'] <= 99999)]"
   ]
  },
  {
   "cell_type": "code",
   "execution_count": 215,
   "metadata": {},
   "outputs": [
    {
     "data": {
      "text/plain": [
       "count    109926.000000\n",
       "mean      98054.390654\n",
       "std          54.980952\n",
       "min       93002.000000\n",
       "25%       98027.000000\n",
       "50%       98042.000000\n",
       "75%       98065.000000\n",
       "max       98302.000000\n",
       "Name: reportedzipcode, dtype: float64"
      ]
     },
     "execution_count": 215,
     "metadata": {},
     "output_type": "execute_result"
    }
   ],
   "source": [
    "flood_data.reportedzipcode.describe()"
   ]
  },
  {
   "cell_type": "code",
   "execution_count": 216,
   "metadata": {},
   "outputs": [],
   "source": [
    "zones_in_zips = flood_data.groupby('reportedzipcode')['floodzone'].nunique()"
   ]
  },
  {
   "cell_type": "code",
   "execution_count": 217,
   "metadata": {},
   "outputs": [
    {
     "data": {
      "text/plain": [
       "reportedzipcode\n",
       "93002    1\n",
       "96168    1\n",
       "98000    1\n",
       "98001    5\n",
       "98002    6\n",
       "Name: floodzone, dtype: int64"
      ]
     },
     "execution_count": 217,
     "metadata": {},
     "output_type": "execute_result"
    }
   ],
   "source": [
    "zones_in_zips.head()"
   ]
  },
  {
   "cell_type": "code",
   "execution_count": 230,
   "metadata": {},
   "outputs": [],
   "source": [
    "zones_index = zones_in_zips.index.tolist()"
   ]
  },
  {
   "cell_type": "code",
   "execution_count": null,
   "metadata": {},
   "outputs": [],
   "source": []
  },
  {
   "cell_type": "code",
   "execution_count": 231,
   "metadata": {},
   "outputs": [
    {
     "ename": "AttributeError",
     "evalue": "'int' object has no attribute 'index'",
     "output_type": "error",
     "traceback": [
      "\u001b[0;31m---------------------------------------------------------------------------\u001b[0m",
      "\u001b[0;31mAttributeError\u001b[0m                            Traceback (most recent call last)",
      "\u001b[0;32m<ipython-input-231-fb6d5ce3f7cd>\u001b[0m in \u001b[0;36m<module>\u001b[0;34m\u001b[0m\n\u001b[1;32m      3\u001b[0m \u001b[0;32mfor\u001b[0m \u001b[0mzone\u001b[0m \u001b[0;32min\u001b[0m \u001b[0mzones_in_zips\u001b[0m\u001b[0;34m:\u001b[0m\u001b[0;34m\u001b[0m\u001b[0;34m\u001b[0m\u001b[0m\n\u001b[1;32m      4\u001b[0m     \u001b[0;32mif\u001b[0m \u001b[0mzone\u001b[0m \u001b[0;34m>\u001b[0m \u001b[0;36m1\u001b[0m\u001b[0;34m:\u001b[0m\u001b[0;34m\u001b[0m\u001b[0;34m\u001b[0m\u001b[0m\n\u001b[0;32m----> 5\u001b[0;31m         \u001b[0mmult_zone_zipes\u001b[0m\u001b[0;34m.\u001b[0m\u001b[0mappend\u001b[0m\u001b[0;34m(\u001b[0m\u001b[0mzone\u001b[0m\u001b[0;34m.\u001b[0m\u001b[0mindex\u001b[0m\u001b[0;34m)\u001b[0m\u001b[0;34m\u001b[0m\u001b[0;34m\u001b[0m\u001b[0m\n\u001b[0m\u001b[1;32m      6\u001b[0m \u001b[0;34m\u001b[0m\u001b[0m\n\u001b[1;32m      7\u001b[0m \u001b[0;34m\u001b[0m\u001b[0m\n",
      "\u001b[0;31mAttributeError\u001b[0m: 'int' object has no attribute 'index'"
     ]
    }
   ],
   "source": [
    "mult_zone_zips = []\n",
    "\n",
    "for zone in zones_in_zips:\n",
    "    if zone > 1:\n",
    "        mult_zone_zipes.append(zone)\n",
    "        \n",
    "        "
   ]
  },
  {
   "cell_type": "code",
   "execution_count": 223,
   "metadata": {},
   "outputs": [
    {
     "data": {
      "text/plain": [
       "dtype('int64')"
      ]
     },
     "execution_count": 223,
     "metadata": {},
     "output_type": "execute_result"
    }
   ],
   "source": [
    "zones_in_zips.dtype"
   ]
  },
  {
   "cell_type": "code",
   "execution_count": 225,
   "metadata": {},
   "outputs": [],
   "source": [
    "single_zone_zips = []\n",
    "for zone in zones_in_zips:\n",
    "    if zone == 1:\n",
    "        single_zone_zips.append(zone)"
   ]
  },
  {
   "cell_type": "code",
   "execution_count": 226,
   "metadata": {},
   "outputs": [
    {
     "data": {
      "text/plain": [
       "26"
      ]
     },
     "execution_count": 226,
     "metadata": {},
     "output_type": "execute_result"
    }
   ],
   "source": [
    "len(single_zone_zips)"
   ]
  },
  {
   "cell_type": "code",
   "execution_count": 229,
   "metadata": {},
   "outputs": [
    {
     "ename": "TypeError",
     "evalue": "'builtin_function_or_method' object is not iterable",
     "output_type": "error",
     "traceback": [
      "\u001b[0;31m---------------------------------------------------------------------------\u001b[0m",
      "\u001b[0;31mTypeError\u001b[0m                                 Traceback (most recent call last)",
      "\u001b[0;32m<ipython-input-229-0363b792a156>\u001b[0m in \u001b[0;36m<module>\u001b[0;34m\u001b[0m\n\u001b[0;32m----> 1\u001b[0;31m \u001b[0mlist\u001b[0m\u001b[0;34m(\u001b[0m\u001b[0msingle_zone_zips\u001b[0m\u001b[0;34m.\u001b[0m\u001b[0mindex\u001b[0m\u001b[0;34m)\u001b[0m\u001b[0;34m\u001b[0m\u001b[0;34m\u001b[0m\u001b[0m\n\u001b[0m",
      "\u001b[0;31mTypeError\u001b[0m: 'builtin_function_or_method' object is not iterable"
     ]
    }
   ],
   "source": [
    "list(single_zone_zips.index)"
   ]
  },
  {
   "cell_type": "code",
   "execution_count": null,
   "metadata": {},
   "outputs": [],
   "source": [
    "# so, almost all our cleaned zipcodes are associated with more than one floodzone type. hmmm. \n",
    "# maybe create a column with all floodzone types for a given zipcode? and the more floodzone types we assign\n",
    "# a score? assign scores based on individual types and also if multiple types?\n",
    "# eg a floodzone type column value of \" X AE \" and a floodzone score column value of \" 7 \" (2 + 5)"
   ]
  },
  {
   "cell_type": "code",
   "execution_count": 232,
   "metadata": {},
   "outputs": [],
   "source": [
    "mult_zone_zipes_over_2  = [x for x in mult_zone_zipes if x >2]"
   ]
  },
  {
   "cell_type": "code",
   "execution_count": 233,
   "metadata": {},
   "outputs": [
    {
     "data": {
      "text/plain": [
       "153"
      ]
     },
     "execution_count": 233,
     "metadata": {},
     "output_type": "execute_result"
    }
   ],
   "source": [
    "len(mult_zone_zipes_over_2 )"
   ]
  },
  {
   "cell_type": "code",
   "execution_count": 234,
   "metadata": {},
   "outputs": [],
   "source": [
    "mult_zone_zipes_over_3 = [x for x in mult_zone_zipes if x > 3]"
   ]
  },
  {
   "cell_type": "code",
   "execution_count": 235,
   "metadata": {},
   "outputs": [
    {
     "data": {
      "text/plain": [
       "97"
      ]
     },
     "execution_count": 235,
     "metadata": {},
     "output_type": "execute_result"
    }
   ],
   "source": [
    "len(mult_zone_zipes_over_3)"
   ]
  },
  {
   "cell_type": "code",
   "execution_count": null,
   "metadata": {},
   "outputs": [],
   "source": [
    "# so, almost all our cleaned zipcodes are associated with more than one floodzone type. hmmm. \n",
    "# maybe create a column with all floodzone types for a given zipcode? and the more floodzone types we assign\n",
    "# a score? assign scores based on individual types and also if multiple types?\n",
    "# eg a floodzone type column value of \" X AE \" and a floodzone score column value of \" 7 \" (2 + 5)"
   ]
  },
  {
   "cell_type": "code",
   "execution_count": null,
   "metadata": {},
   "outputs": [],
   "source": [
    "# would need to create a dictionary of zipcodes:floodzone types and a dictionary of floodzone type: score "
   ]
  },
  {
   "cell_type": "code",
   "execution_count": 239,
   "metadata": {},
   "outputs": [
    {
     "data": {
      "text/plain": [
       "reportedzipcode\n",
       "93002    1\n",
       "96168    1\n",
       "98000    1\n",
       "98001    5\n",
       "98002    6\n",
       "        ..\n",
       "98201    1\n",
       "98224    6\n",
       "98251    1\n",
       "98288    5\n",
       "98302    1\n",
       "Name: floodzone, Length: 93, dtype: int64"
      ]
     },
     "execution_count": 239,
     "metadata": {},
     "output_type": "execute_result"
    }
   ],
   "source": [
    "zones_in_zips"
   ]
  },
  {
   "cell_type": "code",
   "execution_count": 237,
   "metadata": {},
   "outputs": [],
   "source": [
    "zip_zones_dict = {}\n",
    "\n",
    "zips = zones_in_zips.index.to_list()\n",
    "    "
   ]
  },
  {
   "cell_type": "code",
   "execution_count": 301,
   "metadata": {},
   "outputs": [],
   "source": [
    "#zones_in_zips.to_list"
   ]
  },
  {
   "cell_type": "code",
   "execution_count": 304,
   "metadata": {},
   "outputs": [],
   "source": [
    "#flood = flood_data.groupby(['reportedzipcode','floodzone'])['reportedzipcode']\n"
   ]
  },
  {
   "cell_type": "code",
   "execution_count": 309,
   "metadata": {},
   "outputs": [],
   "source": [
    "flood_dict = flood_data.groupby(['reportedzipcode'])['floodzone'].apply(lambda grp: list(grp.value_counts().index)).to_dict()\n",
    "# FINALLY https://stackoverflow.com/questions/23470450/create-a-dictionary-from-groupby-object-python/55422538#55422538"
   ]
  },
  {
   "cell_type": "code",
   "execution_count": 310,
   "metadata": {},
   "outputs": [
    {
     "data": {
      "text/plain": [
       "{93002: ['X'],\n",
       " 96168: ['X'],\n",
       " 98000: ['X'],\n",
       " 98001: ['X', 'AE', 'A', 'AH', 'C'],\n",
       " 98002: ['X', 'AH', 'AE', 'AHB', 'C', 'AO'],\n",
       " 98003: ['X'],\n",
       " 98004: ['X', 'AE'],\n",
       " 98005: ['X', 'AE', 'B'],\n",
       " 98006: ['X', 'AE', 'A'],\n",
       " 98007: ['X', 'AE'],\n",
       " 98008: ['X', 'AE', 'A', 'C', 'A06'],\n",
       " 98010: ['X', 'C'],\n",
       " 98011: ['X', 'C', 'A06', 'AE'],\n",
       " 98014: ['AE', 'X', 'AO', 'C', 'AOB', 'A', 'A05', 'A06'],\n",
       " 98019: ['AE', 'X', 'A', 'C', 'A10'],\n",
       " 98022: ['A', 'X', 'D', 'AE', 'C'],\n",
       " 98023: ['X', 'A', 'C'],\n",
       " 98024: ['AE', 'X', 'AO', 'C', 'A', 'AOB', 'A05'],\n",
       " 98025: ['AE'],\n",
       " 98027: ['AE', 'X', 'AO', 'A', 'A04', 'C', 'B', 'AOB', 'A02'],\n",
       " 98028: ['AE', 'X', 'A'],\n",
       " 98029: ['X', 'AE'],\n",
       " 98030: ['X', 'AE', 'AH'],\n",
       " 98031: ['X', 'AE', 'A', 'C'],\n",
       " 98032: ['X', 'AE', 'AHB', 'AH', 'C', 'A', 'VE'],\n",
       " 98033: ['X', 'AO'],\n",
       " 98034: ['X'],\n",
       " 98035: ['AE', 'X'],\n",
       " 98038: ['AE', 'X', 'A05', 'B', 'A', 'C', 'A01'],\n",
       " 98039: ['X'],\n",
       " 98040: ['X'],\n",
       " 98042: ['X', 'A', 'AE'],\n",
       " 98045: ['AE',\n",
       "  'AO',\n",
       "  'X',\n",
       "  'AOB',\n",
       "  'D',\n",
       "  'C',\n",
       "  'A',\n",
       "  'AH',\n",
       "  'A05',\n",
       "  'B',\n",
       "  'A09',\n",
       "  'AHB',\n",
       "  'A06',\n",
       "  'A03'],\n",
       " 98047: ['X', 'AE', 'C'],\n",
       " 98050: ['X'],\n",
       " 98051: ['X', 'D'],\n",
       " 98052: ['AE', 'X', 'A', 'A06', 'B'],\n",
       " 98053: ['X', 'AE', 'A'],\n",
       " 98055: ['X', 'AHB', 'AE'],\n",
       " 98056: ['X', 'AE'],\n",
       " 98057: ['X', 'AE', 'C', 'AH', 'AHB', 'A04', 'A'],\n",
       " 98058: ['AE', 'X', 'A', 'A05', 'C', 'A07', 'B'],\n",
       " 98059: ['X', 'AE', 'C'],\n",
       " 98064: ['X'],\n",
       " 98065: ['AE', 'X', 'A11', 'A12', 'A', 'AO', 'A05', 'A09', 'D', 'C'],\n",
       " 98068: ['AE', 'D', 'C'],\n",
       " 98070: ['A', 'X', 'C', 'AE', 'B'],\n",
       " 98071: ['X'],\n",
       " 98072: ['X', 'AE'],\n",
       " 98074: ['X', 'AE', 'C'],\n",
       " 98075: ['AE', 'X', 'A', 'C'],\n",
       " 98077: ['X', 'A', 'AE'],\n",
       " 98092: ['X', 'A', 'AE', 'AHB', 'A01', 'C', 'AH'],\n",
       " 98101: ['X', 'A'],\n",
       " 98102: ['X'],\n",
       " 98103: ['X'],\n",
       " 98104: ['X', 'AO', 'A', 'AOB'],\n",
       " 98105: ['X'],\n",
       " 98106: ['X', 'AE'],\n",
       " 98107: ['X', 'C'],\n",
       " 98108: ['X', 'A', 'AE'],\n",
       " 98109: ['X'],\n",
       " 98111: ['X', 'A'],\n",
       " 98112: ['X'],\n",
       " 98115: ['X', 'AE', 'C'],\n",
       " 98116: ['X', 'A', 'C'],\n",
       " 98117: ['X', 'A'],\n",
       " 98118: ['X'],\n",
       " 98119: ['X'],\n",
       " 98121: ['X'],\n",
       " 98122: ['X'],\n",
       " 98125: ['X', 'AE', 'A', 'C'],\n",
       " 98126: ['X', 'C'],\n",
       " 98133: ['X', 'A', 'AE', 'C'],\n",
       " 98134: ['X'],\n",
       " 98136: ['X', 'A'],\n",
       " 98138: ['X'],\n",
       " 98144: ['X'],\n",
       " 98146: ['X', 'A', 'VE', 'C', 'AO'],\n",
       " 98148: ['X', 'C', 'A'],\n",
       " 98155: ['X', 'A', 'AE', 'C'],\n",
       " 98166: ['X', 'A', 'AE', 'AO', 'VE', 'C', 'A03'],\n",
       " 98168: ['X', 'AE', 'C', 'AHB'],\n",
       " 98177: ['X', 'A', 'C'],\n",
       " 98178: ['X', 'AE'],\n",
       " 98188: ['X', 'AE', 'AH', 'AHB'],\n",
       " 98198: ['X', 'A', 'AE', 'C', 'VE'],\n",
       " 98199: ['X', 'A'],\n",
       " 98201: ['X'],\n",
       " 98224: ['AE', 'D', 'X', 'A', 'A06', 'C'],\n",
       " 98251: ['AE'],\n",
       " 98288: ['AE', 'X', 'A', 'D', 'A07'],\n",
       " 98302: ['X']}"
      ]
     },
     "execution_count": 310,
     "metadata": {},
     "output_type": "execute_result"
    }
   ],
   "source": [
    "flood_dict"
   ]
  },
  {
   "cell_type": "code",
   "execution_count": 399,
   "metadata": {},
   "outputs": [
    {
     "data": {
      "text/html": [
       "<div>\n",
       "<style scoped>\n",
       "    .dataframe tbody tr th:only-of-type {\n",
       "        vertical-align: middle;\n",
       "    }\n",
       "\n",
       "    .dataframe tbody tr th {\n",
       "        vertical-align: top;\n",
       "    }\n",
       "\n",
       "    .dataframe thead th {\n",
       "        text-align: right;\n",
       "    }\n",
       "</style>\n",
       "<table border=\"1\" class=\"dataframe\">\n",
       "  <thead>\n",
       "    <tr style=\"text-align: right;\">\n",
       "      <th></th>\n",
       "      <th>flood zone</th>\n",
       "      <th>zipcode</th>\n",
       "      <th>floodzones in zipcode</th>\n",
       "      <th>zipcode flood score</th>\n",
       "    </tr>\n",
       "  </thead>\n",
       "  <tbody>\n",
       "    <tr>\n",
       "      <th>147</th>\n",
       "      <td>X</td>\n",
       "      <td>98055</td>\n",
       "      <td>[X, AHB, AE]</td>\n",
       "      <td>2.666667</td>\n",
       "    </tr>\n",
       "    <tr>\n",
       "      <th>216</th>\n",
       "      <td>X</td>\n",
       "      <td>98002</td>\n",
       "      <td>[X, AH, AE, AHB, C, AO]</td>\n",
       "      <td>2.500000</td>\n",
       "    </tr>\n",
       "    <tr>\n",
       "      <th>483</th>\n",
       "      <td>X</td>\n",
       "      <td>98002</td>\n",
       "      <td>[X, AH, AE, AHB, C, AO]</td>\n",
       "      <td>2.500000</td>\n",
       "    </tr>\n",
       "    <tr>\n",
       "      <th>800</th>\n",
       "      <td>X</td>\n",
       "      <td>98133</td>\n",
       "      <td>[X, A, AE, C]</td>\n",
       "      <td>2.250000</td>\n",
       "    </tr>\n",
       "    <tr>\n",
       "      <th>1261</th>\n",
       "      <td>X</td>\n",
       "      <td>98001</td>\n",
       "      <td>[X, AE, A, AH, C]</td>\n",
       "      <td>2.400000</td>\n",
       "    </tr>\n",
       "  </tbody>\n",
       "</table>\n",
       "</div>"
      ],
      "text/plain": [
       "     flood zone  zipcode    floodzones in zipcode  zipcode flood score\n",
       "147           X    98055             [X, AHB, AE]             2.666667\n",
       "216           X    98002  [X, AH, AE, AHB, C, AO]             2.500000\n",
       "483           X    98002  [X, AH, AE, AHB, C, AO]             2.500000\n",
       "800           X    98133            [X, A, AE, C]             2.250000\n",
       "1261          X    98001        [X, AE, A, AH, C]             2.400000"
      ]
     },
     "execution_count": 399,
     "metadata": {},
     "output_type": "execute_result"
    }
   ],
   "source": [
    "flood_data.head()"
   ]
  },
  {
   "cell_type": "code",
   "execution_count": 419,
   "metadata": {},
   "outputs": [
    {
     "data": {
      "text/plain": [
       "{'A': 3,\n",
       " 'A01': 3,\n",
       " 'A02': 3,\n",
       " 'A03': 3,\n",
       " 'A04': 3,\n",
       " 'A05': 3,\n",
       " 'A06': 3,\n",
       " 'A07': 3,\n",
       " 'A09': 3,\n",
       " 'A10': 3,\n",
       " 'A11': 3,\n",
       " 'A12': 3,\n",
       " 'AE': 3,\n",
       " 'AH': 3,\n",
       " 'AHB': 3,\n",
       " 'AO': 3,\n",
       " 'AOB': 3,\n",
       " 'B': 2,\n",
       " 'C': 1,\n",
       " 'D': 1,\n",
       " 'VE': 3,\n",
       " 'X': 1}"
      ]
     },
     "execution_count": 419,
     "metadata": {},
     "output_type": "execute_result"
    }
   ],
   "source": [
    "unique_values = sorted(set(value for sublist in flood_dict.values() for value in sublist))\n",
    "dict_keys = list(unique_values)\n",
    "dict_values = [3,3,3,3,3,3,3,3,3,3,3,3,3,3,3,3,3,2,1,1,3,1]\n",
    "score_dict = dict(zip(dict_keys, dict_values))\n",
    "\n",
    "score_dict "
   ]
  },
  {
   "cell_type": "code",
   "execution_count": 423,
   "metadata": {},
   "outputs": [],
   "source": [
    "flood_data['area flood score 2'] = flood_data['floodzones in zipcode'].apply(lambda x: [score_dict[val] for val in x]).apply(lambda x: sum(x) / len(x))\n"
   ]
  },
  {
   "cell_type": "code",
   "execution_count": 424,
   "metadata": {},
   "outputs": [
    {
     "data": {
      "text/html": [
       "<div>\n",
       "<style scoped>\n",
       "    .dataframe tbody tr th:only-of-type {\n",
       "        vertical-align: middle;\n",
       "    }\n",
       "\n",
       "    .dataframe tbody tr th {\n",
       "        vertical-align: top;\n",
       "    }\n",
       "\n",
       "    .dataframe thead th {\n",
       "        text-align: right;\n",
       "    }\n",
       "</style>\n",
       "<table border=\"1\" class=\"dataframe\">\n",
       "  <thead>\n",
       "    <tr style=\"text-align: right;\">\n",
       "      <th></th>\n",
       "      <th>flood zone</th>\n",
       "      <th>zipcode</th>\n",
       "      <th>floodzones in zipcode</th>\n",
       "      <th>zipcode flood score</th>\n",
       "      <th>flood score</th>\n",
       "      <th>flood score revised</th>\n",
       "      <th>area flood score 2</th>\n",
       "    </tr>\n",
       "  </thead>\n",
       "  <tbody>\n",
       "    <tr>\n",
       "      <th>147</th>\n",
       "      <td>X</td>\n",
       "      <td>98055</td>\n",
       "      <td>[X, AHB, AE]</td>\n",
       "      <td>2.666667</td>\n",
       "      <td>2.333333</td>\n",
       "      <td>2.333333</td>\n",
       "      <td>2.333333</td>\n",
       "    </tr>\n",
       "    <tr>\n",
       "      <th>216</th>\n",
       "      <td>X</td>\n",
       "      <td>98002</td>\n",
       "      <td>[X, AH, AE, AHB, C, AO]</td>\n",
       "      <td>2.500000</td>\n",
       "      <td>2.333333</td>\n",
       "      <td>2.333333</td>\n",
       "      <td>2.333333</td>\n",
       "    </tr>\n",
       "    <tr>\n",
       "      <th>483</th>\n",
       "      <td>X</td>\n",
       "      <td>98002</td>\n",
       "      <td>[X, AH, AE, AHB, C, AO]</td>\n",
       "      <td>2.500000</td>\n",
       "      <td>2.333333</td>\n",
       "      <td>2.333333</td>\n",
       "      <td>2.333333</td>\n",
       "    </tr>\n",
       "    <tr>\n",
       "      <th>800</th>\n",
       "      <td>X</td>\n",
       "      <td>98133</td>\n",
       "      <td>[X, A, AE, C]</td>\n",
       "      <td>2.250000</td>\n",
       "      <td>2.000000</td>\n",
       "      <td>2.000000</td>\n",
       "      <td>2.000000</td>\n",
       "    </tr>\n",
       "    <tr>\n",
       "      <th>1261</th>\n",
       "      <td>X</td>\n",
       "      <td>98001</td>\n",
       "      <td>[X, AE, A, AH, C]</td>\n",
       "      <td>2.400000</td>\n",
       "      <td>2.200000</td>\n",
       "      <td>2.200000</td>\n",
       "      <td>2.200000</td>\n",
       "    </tr>\n",
       "  </tbody>\n",
       "</table>\n",
       "</div>"
      ],
      "text/plain": [
       "     flood zone  zipcode    floodzones in zipcode  zipcode flood score  \\\n",
       "147           X    98055             [X, AHB, AE]             2.666667   \n",
       "216           X    98002  [X, AH, AE, AHB, C, AO]             2.500000   \n",
       "483           X    98002  [X, AH, AE, AHB, C, AO]             2.500000   \n",
       "800           X    98133            [X, A, AE, C]             2.250000   \n",
       "1261          X    98001        [X, AE, A, AH, C]             2.400000   \n",
       "\n",
       "      flood score  flood score revised  area flood score 2  \n",
       "147      2.333333             2.333333            2.333333  \n",
       "216      2.333333             2.333333            2.333333  \n",
       "483      2.333333             2.333333            2.333333  \n",
       "800      2.000000             2.000000            2.000000  \n",
       "1261     2.200000             2.200000            2.200000  "
      ]
     },
     "execution_count": 424,
     "metadata": {},
     "output_type": "execute_result"
    }
   ],
   "source": [
    "flood_data.head()"
   ]
  },
  {
   "cell_type": "code",
   "execution_count": 425,
   "metadata": {},
   "outputs": [],
   "source": [
    "flood_data.drop(['flood score revised', 'flood score'], axis=1, inplace=True)"
   ]
  },
  {
   "cell_type": "code",
   "execution_count": 429,
   "metadata": {},
   "outputs": [],
   "source": [
    "flood_data.rename(columns={'zipcode flood score': 'area flood score 1'}, inplace=True)"
   ]
  },
  {
   "cell_type": "code",
   "execution_count": null,
   "metadata": {},
   "outputs": [],
   "source": [
    "# we use different values for the X (which is a very common category, because X can mean\n",
    "# either moderate or low risk. when I attemptd to use the value of 1.5, i kept getting an error about\n",
    "# using floats, so instead i am averaging the difference between these two score \"models\")"
   ]
  },
  {
   "cell_type": "code",
   "execution_count": 432,
   "metadata": {},
   "outputs": [],
   "source": [
    "flood_data['average flood score'] = (flood_data['area flood score 1'] + flood_data['area flood score 2']) / 2"
   ]
  },
  {
   "cell_type": "code",
   "execution_count": 433,
   "metadata": {},
   "outputs": [
    {
     "data": {
      "text/html": [
       "<div>\n",
       "<style scoped>\n",
       "    .dataframe tbody tr th:only-of-type {\n",
       "        vertical-align: middle;\n",
       "    }\n",
       "\n",
       "    .dataframe tbody tr th {\n",
       "        vertical-align: top;\n",
       "    }\n",
       "\n",
       "    .dataframe thead th {\n",
       "        text-align: right;\n",
       "    }\n",
       "</style>\n",
       "<table border=\"1\" class=\"dataframe\">\n",
       "  <thead>\n",
       "    <tr style=\"text-align: right;\">\n",
       "      <th></th>\n",
       "      <th>flood zone</th>\n",
       "      <th>zipcode</th>\n",
       "      <th>floodzones in zipcode</th>\n",
       "      <th>area flood score 1</th>\n",
       "      <th>area flood score 2</th>\n",
       "      <th>average flood score</th>\n",
       "    </tr>\n",
       "  </thead>\n",
       "  <tbody>\n",
       "    <tr>\n",
       "      <th>147</th>\n",
       "      <td>X</td>\n",
       "      <td>98055</td>\n",
       "      <td>[X, AHB, AE]</td>\n",
       "      <td>2.666667</td>\n",
       "      <td>2.333333</td>\n",
       "      <td>2.500000</td>\n",
       "    </tr>\n",
       "    <tr>\n",
       "      <th>216</th>\n",
       "      <td>X</td>\n",
       "      <td>98002</td>\n",
       "      <td>[X, AH, AE, AHB, C, AO]</td>\n",
       "      <td>2.500000</td>\n",
       "      <td>2.333333</td>\n",
       "      <td>2.416667</td>\n",
       "    </tr>\n",
       "    <tr>\n",
       "      <th>483</th>\n",
       "      <td>X</td>\n",
       "      <td>98002</td>\n",
       "      <td>[X, AH, AE, AHB, C, AO]</td>\n",
       "      <td>2.500000</td>\n",
       "      <td>2.333333</td>\n",
       "      <td>2.416667</td>\n",
       "    </tr>\n",
       "    <tr>\n",
       "      <th>800</th>\n",
       "      <td>X</td>\n",
       "      <td>98133</td>\n",
       "      <td>[X, A, AE, C]</td>\n",
       "      <td>2.250000</td>\n",
       "      <td>2.000000</td>\n",
       "      <td>2.125000</td>\n",
       "    </tr>\n",
       "    <tr>\n",
       "      <th>1261</th>\n",
       "      <td>X</td>\n",
       "      <td>98001</td>\n",
       "      <td>[X, AE, A, AH, C]</td>\n",
       "      <td>2.400000</td>\n",
       "      <td>2.200000</td>\n",
       "      <td>2.300000</td>\n",
       "    </tr>\n",
       "  </tbody>\n",
       "</table>\n",
       "</div>"
      ],
      "text/plain": [
       "     flood zone  zipcode    floodzones in zipcode  area flood score 1  \\\n",
       "147           X    98055             [X, AHB, AE]            2.666667   \n",
       "216           X    98002  [X, AH, AE, AHB, C, AO]            2.500000   \n",
       "483           X    98002  [X, AH, AE, AHB, C, AO]            2.500000   \n",
       "800           X    98133            [X, A, AE, C]            2.250000   \n",
       "1261          X    98001        [X, AE, A, AH, C]            2.400000   \n",
       "\n",
       "      area flood score 2  average flood score  \n",
       "147             2.333333             2.500000  \n",
       "216             2.333333             2.416667  \n",
       "483             2.333333             2.416667  \n",
       "800             2.000000             2.125000  \n",
       "1261            2.200000             2.300000  "
      ]
     },
     "execution_count": 433,
     "metadata": {},
     "output_type": "execute_result"
    }
   ],
   "source": [
    "flood_data.head()\n"
   ]
  },
  {
   "cell_type": "code",
   "execution_count": 434,
   "metadata": {},
   "outputs": [],
   "source": [
    "flood_data.drop(['flood zone'], axis=1, inplace=True)"
   ]
  },
  {
   "cell_type": "code",
   "execution_count": 438,
   "metadata": {},
   "outputs": [],
   "source": [
    "flood_data.rename(columns={'average flood score': 'avg area flood score'}, inplace=True)"
   ]
  },
  {
   "cell_type": "code",
   "execution_count": 440,
   "metadata": {},
   "outputs": [
    {
     "data": {
      "text/html": [
       "<div>\n",
       "<style scoped>\n",
       "    .dataframe tbody tr th:only-of-type {\n",
       "        vertical-align: middle;\n",
       "    }\n",
       "\n",
       "    .dataframe tbody tr th {\n",
       "        vertical-align: top;\n",
       "    }\n",
       "\n",
       "    .dataframe thead th {\n",
       "        text-align: right;\n",
       "    }\n",
       "</style>\n",
       "<table border=\"1\" class=\"dataframe\">\n",
       "  <thead>\n",
       "    <tr style=\"text-align: right;\">\n",
       "      <th></th>\n",
       "      <th>zipcode</th>\n",
       "      <th>floodzones in zipcode</th>\n",
       "      <th>area flood score 1</th>\n",
       "      <th>area flood score 2</th>\n",
       "      <th>avg area flood score</th>\n",
       "    </tr>\n",
       "  </thead>\n",
       "  <tbody>\n",
       "    <tr>\n",
       "      <th>147</th>\n",
       "      <td>98055</td>\n",
       "      <td>[X, AHB, AE]</td>\n",
       "      <td>2.666667</td>\n",
       "      <td>2.333333</td>\n",
       "      <td>2.500000</td>\n",
       "    </tr>\n",
       "    <tr>\n",
       "      <th>216</th>\n",
       "      <td>98002</td>\n",
       "      <td>[X, AH, AE, AHB, C, AO]</td>\n",
       "      <td>2.500000</td>\n",
       "      <td>2.333333</td>\n",
       "      <td>2.416667</td>\n",
       "    </tr>\n",
       "    <tr>\n",
       "      <th>483</th>\n",
       "      <td>98002</td>\n",
       "      <td>[X, AH, AE, AHB, C, AO]</td>\n",
       "      <td>2.500000</td>\n",
       "      <td>2.333333</td>\n",
       "      <td>2.416667</td>\n",
       "    </tr>\n",
       "    <tr>\n",
       "      <th>800</th>\n",
       "      <td>98133</td>\n",
       "      <td>[X, A, AE, C]</td>\n",
       "      <td>2.250000</td>\n",
       "      <td>2.000000</td>\n",
       "      <td>2.125000</td>\n",
       "    </tr>\n",
       "    <tr>\n",
       "      <th>1261</th>\n",
       "      <td>98001</td>\n",
       "      <td>[X, AE, A, AH, C]</td>\n",
       "      <td>2.400000</td>\n",
       "      <td>2.200000</td>\n",
       "      <td>2.300000</td>\n",
       "    </tr>\n",
       "  </tbody>\n",
       "</table>\n",
       "</div>"
      ],
      "text/plain": [
       "      zipcode    floodzones in zipcode  area flood score 1  \\\n",
       "147     98055             [X, AHB, AE]            2.666667   \n",
       "216     98002  [X, AH, AE, AHB, C, AO]            2.500000   \n",
       "483     98002  [X, AH, AE, AHB, C, AO]            2.500000   \n",
       "800     98133            [X, A, AE, C]            2.250000   \n",
       "1261    98001        [X, AE, A, AH, C]            2.400000   \n",
       "\n",
       "      area flood score 2  avg area flood score  \n",
       "147             2.333333              2.500000  \n",
       "216             2.333333              2.416667  \n",
       "483             2.333333              2.416667  \n",
       "800             2.000000              2.125000  \n",
       "1261            2.200000              2.300000  "
      ]
     },
     "execution_count": 440,
     "metadata": {},
     "output_type": "execute_result"
    }
   ],
   "source": [
    "flood_data.head()\n"
   ]
  },
  {
   "cell_type": "code",
   "execution_count": 441,
   "metadata": {},
   "outputs": [],
   "source": [
    "flood_data.to_csv('flood_data.csv', index=False)"
   ]
  },
  {
   "cell_type": "code",
   "execution_count": null,
   "metadata": {},
   "outputs": [],
   "source": []
  }
 ],
 "metadata": {
  "kernelspec": {
   "display_name": "Python (learn-env)",
   "language": "python",
   "name": "learn-env"
  },
  "language_info": {
   "codemirror_mode": {
    "name": "ipython",
    "version": 3
   },
   "file_extension": ".py",
   "mimetype": "text/x-python",
   "name": "python",
   "nbconvert_exporter": "python",
   "pygments_lexer": "ipython3",
   "version": "3.8.5"
  }
 },
 "nbformat": 4,
 "nbformat_minor": 4
}
